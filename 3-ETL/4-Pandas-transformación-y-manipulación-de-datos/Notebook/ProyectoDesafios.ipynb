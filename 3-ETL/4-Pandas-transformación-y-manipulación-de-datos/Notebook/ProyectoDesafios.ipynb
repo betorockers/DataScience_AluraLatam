{
 "cells": [
  {
   "cell_type": "code",
   "execution_count": 388,
   "id": "28605bd3",
   "metadata": {},
   "outputs": [],
   "source": [
    "import pandas as pd"
   ]
  },
  {
   "cell_type": "markdown",
   "id": "4d8ce1b4",
   "metadata": {},
   "source": [
    "## **Desafío: trabajando en otros contextos**"
   ]
  },
  {
   "cell_type": "markdown",
   "id": "6650128e",
   "metadata": {},
   "source": [
    "- Proyecto Desafío 1: Ventas Online - dados_vendas_clientes.json;\n",
    "- Proyecto Desafío 2: Administración de Condominios - dados_locacao_imoveis.json."
   ]
  },
  {
   "cell_type": "markdown",
   "id": "95f81c1b",
   "metadata": {},
   "source": [
    "En cada clase desarrollaremos una etapa de los proyectos. Así que guarde su código de construcción para cada desafío para poder aplicarlo en los desafíos posteriores.\n",
    "\n",
    "Etapa 1\n",
    "\n",
    "    Proyecto Desafío 1: Ventas Online\n",
    "\n",
    "El objetivo de este proyecto es analizar los resultados de un evento con los clientes de una empresa de venta online. Se recopiló un conjunto de datos que contiene los clientes que más gastaron en productos durante los 5 días de ventas, que es la duración del evento. Este análisis identificará al cliente con la mayor compra esta semana, quien recibirá un premio de la tienda, y posteriormente, puede ayudar a la empresa a crear nuevas estrategias para atraer más clientes.\n",
    "\n",
    "La base de datos utilizada en este análisis es **dados_vendas_clientes.json** y contiene información importante sobre los clientes, como el nombre registrado del cliente, el monto total pagado al momento de la compra y el día de la compra.\n",
    "\n",
    "Sabiendo esta información, el desafío del proyecto 1: ventas online será abrir la base de datos con Pandas y aplicar json_normalize."
   ]
  },
  {
   "cell_type": "markdown",
   "id": "5d3364d0",
   "metadata": {},
   "source": [
    "#### *Etapa 1*"
   ]
  },
  {
   "cell_type": "code",
   "execution_count": 389,
   "id": "159cda4c",
   "metadata": {},
   "outputs": [
    {
     "data": {
      "text/html": [
       "<div>\n",
       "<style scoped>\n",
       "    .dataframe tbody tr th:only-of-type {\n",
       "        vertical-align: middle;\n",
       "    }\n",
       "\n",
       "    .dataframe tbody tr th {\n",
       "        vertical-align: top;\n",
       "    }\n",
       "\n",
       "    .dataframe thead th {\n",
       "        text-align: right;\n",
       "    }\n",
       "</style>\n",
       "<table border=\"1\" class=\"dataframe\">\n",
       "  <thead>\n",
       "    <tr style=\"text-align: right;\">\n",
       "      <th></th>\n",
       "      <th>dados_vendas</th>\n",
       "    </tr>\n",
       "  </thead>\n",
       "  <tbody>\n",
       "    <tr>\n",
       "      <th>0</th>\n",
       "      <td>{'Data de venda': '06/06/2022', 'Cliente': ['@...</td>\n",
       "    </tr>\n",
       "    <tr>\n",
       "      <th>1</th>\n",
       "      <td>{'Data de venda': '07/06/2022', 'Cliente': ['I...</td>\n",
       "    </tr>\n",
       "    <tr>\n",
       "      <th>2</th>\n",
       "      <td>{'Data de venda': '08/06/2022', 'Cliente': ['I...</td>\n",
       "    </tr>\n",
       "    <tr>\n",
       "      <th>3</th>\n",
       "      <td>{'Data de venda': '09/06/2022', 'Cliente': ['J...</td>\n",
       "    </tr>\n",
       "    <tr>\n",
       "      <th>4</th>\n",
       "      <td>{'Data de venda': '10/06/2022', 'Cliente': ['M...</td>\n",
       "    </tr>\n",
       "  </tbody>\n",
       "</table>\n",
       "</div>"
      ],
      "text/plain": [
       "                                        dados_vendas\n",
       "0  {'Data de venda': '06/06/2022', 'Cliente': ['@...\n",
       "1  {'Data de venda': '07/06/2022', 'Cliente': ['I...\n",
       "2  {'Data de venda': '08/06/2022', 'Cliente': ['I...\n",
       "3  {'Data de venda': '09/06/2022', 'Cliente': ['J...\n",
       "4  {'Data de venda': '10/06/2022', 'Cliente': ['M..."
      ]
     },
     "execution_count": 389,
     "metadata": {},
     "output_type": "execute_result"
    }
   ],
   "source": [
    "# Desafio Proyecto 1 ventas online\n",
    "# importamos los archivos \n",
    "proyecto1 = pd.read_json('../Data/dados_vendas_clientes.json')\n",
    "proyecto1.head()"
   ]
  },
  {
   "cell_type": "markdown",
   "id": "e2a8bb7c",
   "metadata": {},
   "source": [
    "#### *Etapa 2*"
   ]
  },
  {
   "cell_type": "code",
   "execution_count": 390,
   "id": "e95a97a7",
   "metadata": {},
   "outputs": [
    {
     "data": {
      "text/html": [
       "<div>\n",
       "<style scoped>\n",
       "    .dataframe tbody tr th:only-of-type {\n",
       "        vertical-align: middle;\n",
       "    }\n",
       "\n",
       "    .dataframe tbody tr th {\n",
       "        vertical-align: top;\n",
       "    }\n",
       "\n",
       "    .dataframe thead th {\n",
       "        text-align: right;\n",
       "    }\n",
       "</style>\n",
       "<table border=\"1\" class=\"dataframe\">\n",
       "  <thead>\n",
       "    <tr style=\"text-align: right;\">\n",
       "      <th></th>\n",
       "      <th>Data de venda</th>\n",
       "      <th>Cliente</th>\n",
       "      <th>Valor da compra</th>\n",
       "    </tr>\n",
       "  </thead>\n",
       "  <tbody>\n",
       "    <tr>\n",
       "      <th>0</th>\n",
       "      <td>06/06/2022</td>\n",
       "      <td>[@ANA _LUCIA 321, DieGO ARMANDIU 210, DieGO AR...</td>\n",
       "      <td>[R$ 836,5, R$ 573,33, R$ 392,8, R$ 512,34]</td>\n",
       "    </tr>\n",
       "    <tr>\n",
       "      <th>1</th>\n",
       "      <td>07/06/2022</td>\n",
       "      <td>[Isabely JOanes 738, Isabely JOanes 738, Isabe...</td>\n",
       "      <td>[R$ 825,31, R$ 168,07, R$ 339,18, R$ 314,69]</td>\n",
       "    </tr>\n",
       "    <tr>\n",
       "      <th>2</th>\n",
       "      <td>08/06/2022</td>\n",
       "      <td>[Isabely JOanes 738, JOãO Gabriel 671, Julya m...</td>\n",
       "      <td>[R$ 682,05, R$ 386,34, R$ 622,65, R$ 630,79]</td>\n",
       "    </tr>\n",
       "    <tr>\n",
       "      <th>3</th>\n",
       "      <td>09/06/2022</td>\n",
       "      <td>[Julya meireles 914, MaRIA Julia 444, MaRIA Ju...</td>\n",
       "      <td>[R$ 390,3, R$ 759,16, R$ 334,47, R$ 678,78]</td>\n",
       "    </tr>\n",
       "    <tr>\n",
       "      <th>4</th>\n",
       "      <td>10/06/2022</td>\n",
       "      <td>[MaRIA Julia 444, PEDRO PASCO 812, Paulo castr...</td>\n",
       "      <td>[R$ 314,24, R$ 311,15, R$ 899,16, R$ 885,24]</td>\n",
       "    </tr>\n",
       "  </tbody>\n",
       "</table>\n",
       "</div>"
      ],
      "text/plain": [
       "  Data de venda                                            Cliente  \\\n",
       "0    06/06/2022  [@ANA _LUCIA 321, DieGO ARMANDIU 210, DieGO AR...   \n",
       "1    07/06/2022  [Isabely JOanes 738, Isabely JOanes 738, Isabe...   \n",
       "2    08/06/2022  [Isabely JOanes 738, JOãO Gabriel 671, Julya m...   \n",
       "3    09/06/2022  [Julya meireles 914, MaRIA Julia 444, MaRIA Ju...   \n",
       "4    10/06/2022  [MaRIA Julia 444, PEDRO PASCO 812, Paulo castr...   \n",
       "\n",
       "                                Valor da compra  \n",
       "0    [R$ 836,5, R$ 573,33, R$ 392,8, R$ 512,34]  \n",
       "1  [R$ 825,31, R$ 168,07, R$ 339,18, R$ 314,69]  \n",
       "2  [R$ 682,05, R$ 386,34, R$ 622,65, R$ 630,79]  \n",
       "3   [R$ 390,3, R$ 759,16, R$ 334,47, R$ 678,78]  \n",
       "4  [R$ 314,24, R$ 311,15, R$ 899,16, R$ 885,24]  "
      ]
     },
     "execution_count": 390,
     "metadata": {},
     "output_type": "execute_result"
    }
   ],
   "source": [
    "# Normalizamos la info\n",
    "proyecto1 = pd.json_normalize(proyecto1['dados_vendas'])\n",
    "proyecto1.head()"
   ]
  },
  {
   "cell_type": "code",
   "execution_count": 391,
   "id": "3375ded2",
   "metadata": {},
   "outputs": [],
   "source": [
    "proyecto1['Cliente'] = proyecto1['Cliente'].astype(str)"
   ]
  },
  {
   "cell_type": "code",
   "execution_count": 392,
   "id": "b91fe3d5",
   "metadata": {},
   "outputs": [
    {
     "name": "stdout",
     "output_type": "stream",
     "text": [
      "<class 'pandas.core.frame.DataFrame'>\n",
      "RangeIndex: 5 entries, 0 to 4\n",
      "Data columns (total 3 columns):\n",
      " #   Column           Non-Null Count  Dtype \n",
      "---  ------           --------------  ----- \n",
      " 0   Data de venda    5 non-null      object\n",
      " 1   Cliente          5 non-null      object\n",
      " 2   Valor da compra  5 non-null      object\n",
      "dtypes: object(3)\n",
      "memory usage: 252.0+ bytes\n"
     ]
    }
   ],
   "source": [
    "proyecto1.info()"
   ]
  },
  {
   "cell_type": "markdown",
   "id": "b0f6cbf0",
   "metadata": {},
   "source": [
    "#### *Etapa 3*"
   ]
  },
  {
   "cell_type": "markdown",
   "id": "03b48e27",
   "metadata": {},
   "source": [
    "Debido a una inestabilidad en el sitio web de la empresa, tuvimos problemas con los nombres de los clientes durante el guardado. Esto resultó en una columna de nombres de clientes con una combinación de letras, mayúsculas y minúsculas, números y otros caracteres.\n",
    "\n",
    "Sabiendo esto, manipula los textos de la columna <mark>Cliente</mark> para que el resultado sean los nombres de los clientes en letras minúsculas, con ausencia de caracteres especiales o números."
   ]
  },
  {
   "cell_type": "code",
   "execution_count": 393,
   "id": "940dc02f",
   "metadata": {},
   "outputs": [],
   "source": [
    "# transformamos los datos a minusculas\n",
    "proyecto1['Cliente'] = (proyecto1['Cliente'].str.lower())"
   ]
  },
  {
   "cell_type": "code",
   "execution_count": 394,
   "id": "2ed93e51",
   "metadata": {},
   "outputs": [
    {
     "data": {
      "text/plain": [
       "0    ['@ana _lucia 321', 'diego armandiu 210', 'die...\n",
       "1    ['isabely joanes 738', 'isabely joanes 738', '...\n",
       "2    ['isabely joanes 738', 'joão gabriel 671', 'ju...\n",
       "3    ['julya meireles 914', 'maria julia 444', 'mar...\n",
       "4    ['maria julia 444', 'pedro pasco 812', 'paulo ...\n",
       "Name: Cliente, dtype: object"
      ]
     },
     "execution_count": 394,
     "metadata": {},
     "output_type": "execute_result"
    }
   ],
   "source": [
    "proyecto1['Cliente'].head()"
   ]
  },
  {
   "cell_type": "code",
   "execution_count": null,
   "id": "e47638c5",
   "metadata": {},
   "outputs": [],
   "source": [
    "#limpiamos todo el texto luego de trasnformarlas en minusculas quitando todo lo solicitado y respetandos los espacios entre palabras\n",
    "proyecto1['Cliente'] = proyecto1['Cliente'].str.replace(r'[^a-záéíóúñü\\, ]', '', regex=True)"
   ]
  },
  {
   "cell_type": "code",
   "execution_count": 396,
   "id": "29eed3ef",
   "metadata": {},
   "outputs": [
    {
     "data": {
      "text/plain": [
       "0    ana lucia , diego armandiu , diego armandiu , ...\n",
       "1    isabely joanes , isabely joanes , isabely joan...\n",
       "2    isabely joanes , joo gabriel , julya meireles ...\n",
       "3    julya meireles , maria julia , maria julia , m...\n",
       "4    maria julia , pedro pasco , paulo castro , thi...\n",
       "Name: Cliente, dtype: object"
      ]
     },
     "execution_count": 396,
     "metadata": {},
     "output_type": "execute_result"
    }
   ],
   "source": [
    "proyecto1['Cliente'].head()"
   ]
  },
  {
   "cell_type": "code",
   "execution_count": null,
   "id": "6c97fbc4",
   "metadata": {},
   "outputs": [],
   "source": [
    "# el texto quedara todo separados por coma y con espacios entre coma y palabras, con elsiguiente replace reemplazaremos \n",
    "# los espacios entre la ultima palabra y la coma que lo separa\n",
    "proyecto1['Cliente'] = proyecto1['Cliente'].str.replace(' ,', ',')"
   ]
  },
  {
   "cell_type": "code",
   "execution_count": 398,
   "id": "0c540d68",
   "metadata": {},
   "outputs": [
    {
     "data": {
      "text/plain": [
       "0    ana lucia, diego armandiu, diego armandiu, die...\n",
       "1    isabely joanes, isabely joanes, isabely joanes...\n",
       "2    isabely joanes, joo gabriel, julya meireles, j...\n",
       "3    julya meireles, maria julia, maria julia, mari...\n",
       "4    maria julia, pedro pasco, paulo castro, thiago...\n",
       "Name: Cliente, dtype: object"
      ]
     },
     "execution_count": 398,
     "metadata": {},
     "output_type": "execute_result"
    }
   ],
   "source": [
    "# revisamos la limpieza\n",
    "proyecto1['Cliente'].head()"
   ]
  },
  {
   "cell_type": "markdown",
   "id": "c6ea2ba3",
   "metadata": {},
   "source": [
    "#### *Etapa 4*"
   ]
  },
  {
   "cell_type": "markdown",
   "id": "4b32babc",
   "metadata": {},
   "source": [
    "En la columna Fecha de venta tenemos fechas en el formato <mark>'día/mes/año' (dd/mm/AAAA)</mark>. Transforme estos datos al tipo <mark>datetime</mark> y busque una forma de visualización de subconjunto que pueda contribuir al objetivo del contexto en el que se insertan los datos.\n",
    "\n",
    "Si no recuerdas el problema del Proyecto Desafío 1, te dejo el texto de la situación a continuación para que sea más fácil encontrar la información:\n",
    "\n",
    "        El objetivo de este proyecto es analizar los resultados de un evento con los clientes de una empresa de venta online. Se recopiló un conjunto de datos que contiene los clientes que gastaron más en productos dentro de los 5 días posteriores a la venta, que es la duración del evento. Este análisis identificará al cliente con la mayor compra esa semana, quien recibirá un premio de la tienda, y posteriormente, puede ayudar a la empresa a crear nuevas estrategias para atraer más clientes."
   ]
  },
  {
   "cell_type": "code",
   "execution_count": 404,
   "id": "8d9874de",
   "metadata": {},
   "outputs": [],
   "source": [
    "#  transformamos y guardamos la columna con su tipo correspondiente datetime\n",
    "proyecto1['Data de venda'] = pd.to_datetime(proyecto1['Data de venda'])"
   ]
  },
  {
   "cell_type": "code",
   "execution_count": 405,
   "id": "f9879dd3",
   "metadata": {},
   "outputs": [
    {
     "name": "stdout",
     "output_type": "stream",
     "text": [
      "<class 'pandas.core.frame.DataFrame'>\n",
      "RangeIndex: 5 entries, 0 to 4\n",
      "Data columns (total 3 columns):\n",
      " #   Column           Non-Null Count  Dtype         \n",
      "---  ------           --------------  -----         \n",
      " 0   Data de venda    5 non-null      datetime64[ns]\n",
      " 1   Cliente          5 non-null      object        \n",
      " 2   Valor da compra  5 non-null      object        \n",
      "dtypes: datetime64[ns](1), object(2)\n",
      "memory usage: 252.0+ bytes\n"
     ]
    }
   ],
   "source": [
    "proyecto1.info()"
   ]
  },
  {
   "cell_type": "code",
   "execution_count": 411,
   "id": "c3a6e8b9",
   "metadata": {},
   "outputs": [
    {
     "data": {
      "text/plain": [
       "0    06-06-2022\n",
       "1    06-07-2022\n",
       "2    06-08-2022\n",
       "3    06-09-2022\n",
       "4    06-10-2022\n",
       "Name: Data de venda, dtype: object"
      ]
     },
     "execution_count": 411,
     "metadata": {},
     "output_type": "execute_result"
    }
   ],
   "source": [
    "proyecto1['Data de venda'].dt.strftime('%d-%m-%Y')"
   ]
  },
  {
   "cell_type": "markdown",
   "id": "5393452c",
   "metadata": {},
   "source": [
    "    Proyecto Desafío 2: Administración de Condominios\n",
    "\n",
    "Administrar condominios es una tarea que requiere mucha atención y organización. Entre las diversas responsabilidades de gestión se encuentra el cobro del alquiler a los inquilinos. Para garantizar la buena salud financiera de la empresa, es fundamental que estos pagos se realicen de forma regular y puntual. Sin embargo, sabemos que esto no siempre sucede.\n",
    "\n",
    "Teniendo esto en cuenta, propongo un desafío de procesamiento de datos con el objetivo de analizar el retraso en el pago del alquiler en el condominio de algunos residentes. Pongo a disposición la base de datos ***dados_locacao_imoveis.json***., que contiene información sobre el departamento de los inquilinos, el día acordado para el pago del alquiler, el día en que se realiza el pago del alquiler y el monto del alquiler.\n",
    "\n",
    "Con esta información, el desafío del proyecto 2: administración del condominio será similar al desafío del proyecto 1, abrir la base de datos con Pandas y aplicar ***json_normalize*** al DataFrame."
   ]
  },
  {
   "cell_type": "markdown",
   "id": "a11283ae",
   "metadata": {},
   "source": [
    "#### *Etapa 1*"
   ]
  },
  {
   "cell_type": "code",
   "execution_count": 399,
   "id": "08a17482",
   "metadata": {},
   "outputs": [
    {
     "data": {
      "text/html": [
       "<div>\n",
       "<style scoped>\n",
       "    .dataframe tbody tr th:only-of-type {\n",
       "        vertical-align: middle;\n",
       "    }\n",
       "\n",
       "    .dataframe tbody tr th {\n",
       "        vertical-align: top;\n",
       "    }\n",
       "\n",
       "    .dataframe thead th {\n",
       "        text-align: right;\n",
       "    }\n",
       "</style>\n",
       "<table border=\"1\" class=\"dataframe\">\n",
       "  <thead>\n",
       "    <tr style=\"text-align: right;\">\n",
       "      <th></th>\n",
       "      <th>dados_locacao</th>\n",
       "    </tr>\n",
       "  </thead>\n",
       "  <tbody>\n",
       "    <tr>\n",
       "      <th>0</th>\n",
       "      <td>{'apartamento': 'A101 (blocoAP)', 'datas_combi...</td>\n",
       "    </tr>\n",
       "    <tr>\n",
       "      <th>1</th>\n",
       "      <td>{'apartamento': 'A102 (blocoAP)', 'datas_combi...</td>\n",
       "    </tr>\n",
       "    <tr>\n",
       "      <th>2</th>\n",
       "      <td>{'apartamento': 'B201 (blocoAP)', 'datas_combi...</td>\n",
       "    </tr>\n",
       "    <tr>\n",
       "      <th>3</th>\n",
       "      <td>{'apartamento': 'B202 (blocoAP)', 'datas_combi...</td>\n",
       "    </tr>\n",
       "    <tr>\n",
       "      <th>4</th>\n",
       "      <td>{'apartamento': 'C301 (blocoAP)', 'datas_combi...</td>\n",
       "    </tr>\n",
       "  </tbody>\n",
       "</table>\n",
       "</div>"
      ],
      "text/plain": [
       "                                       dados_locacao\n",
       "0  {'apartamento': 'A101 (blocoAP)', 'datas_combi...\n",
       "1  {'apartamento': 'A102 (blocoAP)', 'datas_combi...\n",
       "2  {'apartamento': 'B201 (blocoAP)', 'datas_combi...\n",
       "3  {'apartamento': 'B202 (blocoAP)', 'datas_combi...\n",
       "4  {'apartamento': 'C301 (blocoAP)', 'datas_combi..."
      ]
     },
     "execution_count": 399,
     "metadata": {},
     "output_type": "execute_result"
    }
   ],
   "source": [
    "# Desafio Proyecto 2 Administracion de Condominios\n",
    "# importamos los archivos \n",
    "proyecto2 = pd.read_json('../Data/dados_locacao_imoveis.json')\n",
    "proyecto2.head()"
   ]
  },
  {
   "cell_type": "markdown",
   "id": "66c9ce56",
   "metadata": {},
   "source": [
    "#### *Etapa 2*"
   ]
  },
  {
   "cell_type": "code",
   "execution_count": 400,
   "id": "b3ad5f29",
   "metadata": {},
   "outputs": [
    {
     "data": {
      "text/html": [
       "<div>\n",
       "<style scoped>\n",
       "    .dataframe tbody tr th:only-of-type {\n",
       "        vertical-align: middle;\n",
       "    }\n",
       "\n",
       "    .dataframe tbody tr th {\n",
       "        vertical-align: top;\n",
       "    }\n",
       "\n",
       "    .dataframe thead th {\n",
       "        text-align: right;\n",
       "    }\n",
       "</style>\n",
       "<table border=\"1\" class=\"dataframe\">\n",
       "  <thead>\n",
       "    <tr style=\"text-align: right;\">\n",
       "      <th></th>\n",
       "      <th>apartamento</th>\n",
       "      <th>datas_combinadas_pagamento</th>\n",
       "      <th>datas_de_pagamento</th>\n",
       "      <th>valor_aluguel</th>\n",
       "    </tr>\n",
       "  </thead>\n",
       "  <tbody>\n",
       "    <tr>\n",
       "      <th>0</th>\n",
       "      <td>A101 (blocoAP)</td>\n",
       "      <td>[01/06/2022, 01/07/2022]</td>\n",
       "      <td>[05/06/2022, 03/07/2022]</td>\n",
       "      <td>[$ 1000,0 reais, $ 2500,0 reais]</td>\n",
       "    </tr>\n",
       "    <tr>\n",
       "      <th>1</th>\n",
       "      <td>A102 (blocoAP)</td>\n",
       "      <td>[02/06/2022, 02/07/2022]</td>\n",
       "      <td>[02/06/2022, 06/07/2022]</td>\n",
       "      <td>[$ 1100,0 reais, $ 2600,0 reais]</td>\n",
       "    </tr>\n",
       "    <tr>\n",
       "      <th>2</th>\n",
       "      <td>B201 (blocoAP)</td>\n",
       "      <td>[03/06/2022, 03/07/2022]</td>\n",
       "      <td>[07/06/2022, 03/07/2022]</td>\n",
       "      <td>[$ 1200,0 reais, $ 2700,0 reais]</td>\n",
       "    </tr>\n",
       "    <tr>\n",
       "      <th>3</th>\n",
       "      <td>B202 (blocoAP)</td>\n",
       "      <td>[04/06/2022, 04/07/2022]</td>\n",
       "      <td>[07/06/2022, 05/07/2022]</td>\n",
       "      <td>[$ 1300,0 reais, $ 2800,0 reais]</td>\n",
       "    </tr>\n",
       "    <tr>\n",
       "      <th>4</th>\n",
       "      <td>C301 (blocoAP)</td>\n",
       "      <td>[05/06/2022, 05/07/2022]</td>\n",
       "      <td>[10/06/2022, 09/07/2022]</td>\n",
       "      <td>[$ 1400,0 reais, $ 2900,0 reais]</td>\n",
       "    </tr>\n",
       "  </tbody>\n",
       "</table>\n",
       "</div>"
      ],
      "text/plain": [
       "      apartamento datas_combinadas_pagamento        datas_de_pagamento  \\\n",
       "0  A101 (blocoAP)   [01/06/2022, 01/07/2022]  [05/06/2022, 03/07/2022]   \n",
       "1  A102 (blocoAP)   [02/06/2022, 02/07/2022]  [02/06/2022, 06/07/2022]   \n",
       "2  B201 (blocoAP)   [03/06/2022, 03/07/2022]  [07/06/2022, 03/07/2022]   \n",
       "3  B202 (blocoAP)   [04/06/2022, 04/07/2022]  [07/06/2022, 05/07/2022]   \n",
       "4  C301 (blocoAP)   [05/06/2022, 05/07/2022]  [10/06/2022, 09/07/2022]   \n",
       "\n",
       "                      valor_aluguel  \n",
       "0  [$ 1000,0 reais, $ 2500,0 reais]  \n",
       "1  [$ 1100,0 reais, $ 2600,0 reais]  \n",
       "2  [$ 1200,0 reais, $ 2700,0 reais]  \n",
       "3  [$ 1300,0 reais, $ 2800,0 reais]  \n",
       "4  [$ 1400,0 reais, $ 2900,0 reais]  "
      ]
     },
     "execution_count": 400,
     "metadata": {},
     "output_type": "execute_result"
    }
   ],
   "source": [
    "# Normalizamos la info\n",
    "proyecto2 = pd.json_normalize(proyecto2['dados_locacao'])\n",
    "proyecto2.head()"
   ]
  },
  {
   "cell_type": "markdown",
   "id": "826a70c5",
   "metadata": {},
   "source": [
    "#### *Etapa 3*"
   ]
  },
  {
   "cell_type": "markdown",
   "id": "c92ae198",
   "metadata": {},
   "source": [
    "Buscando explicar la organización de la identificación de los apartamentos, durante la creación del conjunto de datos se añadió el texto <mark>(blocoAP)</mark>. Este texto informa que los nombres de los apartamentos están organizados con la letra mayúscula seguida del número del apartamento. Sin embargo, esto no aporta ninguna información a nuestros datos, por lo que resulta interesante eliminar este texto del conjunto de datos.\n",
    "\n",
    "Con esto, manipule los textos de la columna <mark>apartamento</mark> para eliminar el texto <mark>(blocoAP)</mark> del DataFrame."
   ]
  },
  {
   "cell_type": "code",
   "execution_count": null,
   "id": "135a72f0",
   "metadata": {},
   "outputs": [],
   "source": [
    "#Eliminaremos la palabra (blocoAP) de la columna apartamentos\n",
    "proyecto2['apartamento'] = proyecto2['apartamento'].apply(lambda x: x.replace('(blocoAP)', ''))"
   ]
  },
  {
   "cell_type": "code",
   "execution_count": 403,
   "id": "f48055e1",
   "metadata": {},
   "outputs": [
    {
     "data": {
      "text/html": [
       "<div>\n",
       "<style scoped>\n",
       "    .dataframe tbody tr th:only-of-type {\n",
       "        vertical-align: middle;\n",
       "    }\n",
       "\n",
       "    .dataframe tbody tr th {\n",
       "        vertical-align: top;\n",
       "    }\n",
       "\n",
       "    .dataframe thead th {\n",
       "        text-align: right;\n",
       "    }\n",
       "</style>\n",
       "<table border=\"1\" class=\"dataframe\">\n",
       "  <thead>\n",
       "    <tr style=\"text-align: right;\">\n",
       "      <th></th>\n",
       "      <th>apartamento</th>\n",
       "      <th>datas_combinadas_pagamento</th>\n",
       "      <th>datas_de_pagamento</th>\n",
       "      <th>valor_aluguel</th>\n",
       "    </tr>\n",
       "  </thead>\n",
       "  <tbody>\n",
       "    <tr>\n",
       "      <th>0</th>\n",
       "      <td>A101</td>\n",
       "      <td>[01/06/2022, 01/07/2022]</td>\n",
       "      <td>[05/06/2022, 03/07/2022]</td>\n",
       "      <td>[$ 1000,0 reais, $ 2500,0 reais]</td>\n",
       "    </tr>\n",
       "    <tr>\n",
       "      <th>1</th>\n",
       "      <td>A102</td>\n",
       "      <td>[02/06/2022, 02/07/2022]</td>\n",
       "      <td>[02/06/2022, 06/07/2022]</td>\n",
       "      <td>[$ 1100,0 reais, $ 2600,0 reais]</td>\n",
       "    </tr>\n",
       "    <tr>\n",
       "      <th>2</th>\n",
       "      <td>B201</td>\n",
       "      <td>[03/06/2022, 03/07/2022]</td>\n",
       "      <td>[07/06/2022, 03/07/2022]</td>\n",
       "      <td>[$ 1200,0 reais, $ 2700,0 reais]</td>\n",
       "    </tr>\n",
       "    <tr>\n",
       "      <th>3</th>\n",
       "      <td>B202</td>\n",
       "      <td>[04/06/2022, 04/07/2022]</td>\n",
       "      <td>[07/06/2022, 05/07/2022]</td>\n",
       "      <td>[$ 1300,0 reais, $ 2800,0 reais]</td>\n",
       "    </tr>\n",
       "    <tr>\n",
       "      <th>4</th>\n",
       "      <td>C301</td>\n",
       "      <td>[05/06/2022, 05/07/2022]</td>\n",
       "      <td>[10/06/2022, 09/07/2022]</td>\n",
       "      <td>[$ 1400,0 reais, $ 2900,0 reais]</td>\n",
       "    </tr>\n",
       "  </tbody>\n",
       "</table>\n",
       "</div>"
      ],
      "text/plain": [
       "  apartamento datas_combinadas_pagamento        datas_de_pagamento  \\\n",
       "0       A101    [01/06/2022, 01/07/2022]  [05/06/2022, 03/07/2022]   \n",
       "1       A102    [02/06/2022, 02/07/2022]  [02/06/2022, 06/07/2022]   \n",
       "2       B201    [03/06/2022, 03/07/2022]  [07/06/2022, 03/07/2022]   \n",
       "3       B202    [04/06/2022, 04/07/2022]  [07/06/2022, 05/07/2022]   \n",
       "4       C301    [05/06/2022, 05/07/2022]  [10/06/2022, 09/07/2022]   \n",
       "\n",
       "                      valor_aluguel  \n",
       "0  [$ 1000,0 reais, $ 2500,0 reais]  \n",
       "1  [$ 1100,0 reais, $ 2600,0 reais]  \n",
       "2  [$ 1200,0 reais, $ 2700,0 reais]  \n",
       "3  [$ 1300,0 reais, $ 2800,0 reais]  \n",
       "4  [$ 1400,0 reais, $ 2900,0 reais]  "
      ]
     },
     "execution_count": 403,
     "metadata": {},
     "output_type": "execute_result"
    }
   ],
   "source": [
    "proyecto2.head()"
   ]
  },
  {
   "cell_type": "markdown",
   "id": "aac4887a",
   "metadata": {},
   "source": [
    "#### *Etapa 4*"
   ]
  }
 ],
 "metadata": {
  "kernelspec": {
   "display_name": ".aluraEnv",
   "language": "python",
   "name": "python3"
  },
  "language_info": {
   "codemirror_mode": {
    "name": "ipython",
    "version": 3
   },
   "file_extension": ".py",
   "mimetype": "text/x-python",
   "name": "python",
   "nbconvert_exporter": "python",
   "pygments_lexer": "ipython3",
   "version": "3.12.3"
  }
 },
 "nbformat": 4,
 "nbformat_minor": 5
}
