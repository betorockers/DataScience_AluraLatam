{
 "cells": [
  {
   "cell_type": "markdown",
   "id": "7e334c42",
   "metadata": {},
   "source": [
    "# Visualizacion de datos con python: Matplotlib, Seaborn y Plotly"
   ]
  },
  {
   "cell_type": "markdown",
   "id": "4eb401d2",
   "metadata": {},
   "source": []
  }
 ],
 "metadata": {
  "language_info": {
   "name": "python"
  }
 },
 "nbformat": 4,
 "nbformat_minor": 5
}
