{
 "cells": [
  {
   "cell_type": "markdown",
   "metadata": {
    "colab_type": "text",
    "id": "view-in-github"
   },
   "source": [
    "<a href=\"https://colab.research.google.com/github/ahcamachod/2123-ia-aplicada-a-data-science-construccion-de-visualizaciones/blob/main/IA_aplicada_a_ciencia_de_datos.ipynb\" target=\"_parent\"><img src=\"https://colab.research.google.com/assets/colab-badge.svg\" alt=\"Open In Colab\"/></a>"
   ]
  },
  {
   "cell_type": "markdown",
   "metadata": {
    "id": "xH5tFkmkRt_n"
   },
   "source": [
    "# <strong><font color=\"7b71ff\">IA aplicada a Data Science: Utilizando IA en la construcción de visualizaciones de datos</font></strong>\n",
    "\n",
    "\n",
    "---"
   ]
  },
  {
   "cell_type": "markdown",
   "metadata": {
    "id": "sQ_RdGPMSWeu"
   },
   "source": [
    "<img src=\"https://raw.githubusercontent.com/alura-cursos/ia-datascience-dataviz/main/imagens/logos/logo_branca_fundo_azul.png\" alt=\"inserir alt\">"
   ]
  },
  {
   "cell_type": "markdown",
   "metadata": {
    "id": "heBVzgb0SeZH"
   },
   "source": [
    "# **Aula 1 - Conociendo los datos**"
   ]
  },
  {
   "cell_type": "markdown",
   "metadata": {
    "id": "o9mGhpCVSxFt"
   },
   "source": [
    " Zoop es una gran minorista que atiende a todas las regiones de México a través de su e-commerce. Es conocida por la amplia variedad de productos que ofrece, buscando satisfacer a todo tipo de público. Posee una serie de centros de distribución (CDs) para la entrega de sus productos, la mayoría de ellos situados en el estado de Mexico.\n",
    "\n",
    "Para gestionar su alcance, así como la facturación de su sector en tiendas online, consolida los datos en diferentes períodos de tiempo y evalúa estos datos para generar insights y tomar decisiones estratégicas en su negocio. En este proyecto, tendremos acceso a los datos de parte de su clientela de e-commerce durante el año 2023.\n",
    "\n",
    "Tú, como analista de datos de la empresa, necesitarás generar visualizaciones que ayuden en la elaboración de informes de acuerdo con algunas premisas proporcionadas por las partes interesadas, realizando un rápido análisis de la clientela que tenemos en la tienda virtual y de la facturación de la empresa.\n",
    "\n",
    "**Problema de negocio:**\n",
    "\n",
    "El equipo de datos de Zoop necesita extraer los datos y generar información a través de visuales que puedan presentarse a la directiva de la empresa, destacando los datos de facturación, perfil del cliente y otros indicadores que puedan ayudar en la toma de decisiones en su tienda online.\n",
    "\n",
    "**Base de datos**\n",
    "\n",
    "Vamos a importar dos bases de datos:\n",
    "\n",
    "Datos de los clientes del e-commerce de Zoop, separados por el código identificador de la compra.\n",
    "\n",
    "Datos de ventas del e-commerce de Zoop en 2023, separados por el código identificador de la compra.\n",
    "\n",
    "Estos datos se leerán desde el repositorio compartido en GitHub.\n",
    "\n",
    "**Desafío**\n",
    "\n",
    "Tú, como analista de datos del equipo de datos de Zoop, tienes el desafío de extraer los datos de ambas bases y construir visualizaciones que puedan agregar valor a la presentación de los resultados de Zoop en 2023. Para ello, se te presentarán 7 preguntas para que puedas contribuir en la construcción del storytelling de las ventas de la empresa.\n",
    "\n",
    "Para agilizar el proceso de análisis exploratorio de datos (AED) y la creación de visuales, utilizaremos la IA de ChatGPT como nuestra asistente, teniendo en cuenta el corto plazo para los análisis y la calidad de la entrega."
   ]
  },
  {
   "cell_type": "markdown",
   "metadata": {
    "id": "Gug4N1McUbeN"
   },
   "source": [
    "## **1.2 - Obteniendo los datos**\n",
    "\n",
    "---\n",
    "\n"
   ]
  },
  {
   "cell_type": "markdown",
   "metadata": {
    "id": "xI-XtppmUii6"
   },
   "source": [
    "Vamos inicialmente a proveer el link del repositorio con las dos bases que utilizaremos en el proyecto:"
   ]
  },
  {
   "cell_type": "code",
   "execution_count": 112,
   "metadata": {
    "id": "t6OFqAHOSOeJ"
   },
   "outputs": [],
   "source": [
    "url_clientes = \"https://gist.githubusercontent.com/ahcamachod/d08898e1cc84c7271856e78d9558ca3d/raw/2f7e1fa53711efe6433a5c5ec79948f600591cb9/clientes_zoop.csv\"\n",
    "url_ventas = \"https://gist.githubusercontent.com/ahcamachod/966d7162a3c3a2769b8770b35abf1bcc/raw/d79941b3fa46a450f3611589abd8663399c1277b/ventas_zoop.csv\""
   ]
  },
  {
   "cell_type": "markdown",
   "metadata": {
    "id": "B6dG4mpIU1st"
   },
   "source": [
    "Después de esta etapa, vamos a crear 2 dataframes con los datos de los clientes y de las ventas de Zoop separadamente y realizar una pequeña verificación en las tablas extraídas."
   ]
  },
  {
   "cell_type": "code",
   "execution_count": 113,
   "metadata": {
    "id": "pKX3QMfJ-vsP"
   },
   "outputs": [],
   "source": [
    "import pandas as pd\n",
    "import warnings\n",
    "\n",
    "warnings.filterwarnings(\"ignore\")"
   ]
  },
  {
   "cell_type": "code",
   "execution_count": 114,
   "metadata": {
    "id": "yN2USgCt-vor"
   },
   "outputs": [
    {
     "data": {
      "text/html": [
       "<div>\n",
       "<style scoped>\n",
       "    .dataframe tbody tr th:only-of-type {\n",
       "        vertical-align: middle;\n",
       "    }\n",
       "\n",
       "    .dataframe tbody tr th {\n",
       "        vertical-align: top;\n",
       "    }\n",
       "\n",
       "    .dataframe thead th {\n",
       "        text-align: right;\n",
       "    }\n",
       "</style>\n",
       "<table border=\"1\" class=\"dataframe\">\n",
       "  <thead>\n",
       "    <tr style=\"text-align: right;\">\n",
       "      <th></th>\n",
       "      <th>ID_compra</th>\n",
       "      <th>ID_cliente</th>\n",
       "      <th>ciudad</th>\n",
       "      <th>estado</th>\n",
       "      <th>region</th>\n",
       "      <th>edad</th>\n",
       "      <th>sexo_biologico</th>\n",
       "      <th>cashback</th>\n",
       "      <th>nota</th>\n",
       "    </tr>\n",
       "  </thead>\n",
       "  <tbody>\n",
       "    <tr>\n",
       "      <th>0</th>\n",
       "      <td>904</td>\n",
       "      <td>8972</td>\n",
       "      <td>Oaxaca de Juárez</td>\n",
       "      <td>Oaxaca</td>\n",
       "      <td>Sur</td>\n",
       "      <td>49</td>\n",
       "      <td>Masculino</td>\n",
       "      <td>No</td>\n",
       "      <td>9</td>\n",
       "    </tr>\n",
       "    <tr>\n",
       "      <th>1</th>\n",
       "      <td>4613</td>\n",
       "      <td>5120</td>\n",
       "      <td>Ciudad de México</td>\n",
       "      <td>Ciudad de México</td>\n",
       "      <td>Centro</td>\n",
       "      <td>49</td>\n",
       "      <td>Femenino</td>\n",
       "      <td>No</td>\n",
       "      <td>9</td>\n",
       "    </tr>\n",
       "    <tr>\n",
       "      <th>2</th>\n",
       "      <td>5579</td>\n",
       "      <td>1847</td>\n",
       "      <td>Ciudad de México</td>\n",
       "      <td>Ciudad de México</td>\n",
       "      <td>Centro</td>\n",
       "      <td>24</td>\n",
       "      <td>Femenino</td>\n",
       "      <td>No</td>\n",
       "      <td>8</td>\n",
       "    </tr>\n",
       "    <tr>\n",
       "      <th>3</th>\n",
       "      <td>2405</td>\n",
       "      <td>2846</td>\n",
       "      <td>Ciudad de México</td>\n",
       "      <td>Ciudad de México</td>\n",
       "      <td>Centro</td>\n",
       "      <td>38</td>\n",
       "      <td>Femenino</td>\n",
       "      <td>Sí</td>\n",
       "      <td>7</td>\n",
       "    </tr>\n",
       "    <tr>\n",
       "      <th>4</th>\n",
       "      <td>2485</td>\n",
       "      <td>2715</td>\n",
       "      <td>Chihuahua</td>\n",
       "      <td>Chihuahua</td>\n",
       "      <td>Noroeste</td>\n",
       "      <td>30</td>\n",
       "      <td>Femenino</td>\n",
       "      <td>No</td>\n",
       "      <td>10</td>\n",
       "    </tr>\n",
       "  </tbody>\n",
       "</table>\n",
       "</div>"
      ],
      "text/plain": [
       "   ID_compra  ID_cliente            ciudad            estado    region  edad  \\\n",
       "0        904        8972  Oaxaca de Juárez            Oaxaca       Sur    49   \n",
       "1       4613        5120  Ciudad de México  Ciudad de México    Centro    49   \n",
       "2       5579        1847  Ciudad de México  Ciudad de México    Centro    24   \n",
       "3       2405        2846  Ciudad de México  Ciudad de México    Centro    38   \n",
       "4       2485        2715         Chihuahua         Chihuahua  Noroeste    30   \n",
       "\n",
       "  sexo_biologico cashback  nota  \n",
       "0      Masculino       No     9  \n",
       "1       Femenino       No     9  \n",
       "2       Femenino       No     8  \n",
       "3       Femenino       Sí     7  \n",
       "4       Femenino       No    10  "
      ]
     },
     "execution_count": 114,
     "metadata": {},
     "output_type": "execute_result"
    }
   ],
   "source": [
    "#Creamos el DataFrame de clientes \n",
    "clientes = pd.read_csv(url_clientes)\n",
    "clientes.head() "
   ]
  },
  {
   "cell_type": "code",
   "execution_count": 115,
   "metadata": {
    "id": "TP7FS5Va-vl6"
   },
   "outputs": [
    {
     "data": {
      "text/html": [
       "<div>\n",
       "<style scoped>\n",
       "    .dataframe tbody tr th:only-of-type {\n",
       "        vertical-align: middle;\n",
       "    }\n",
       "\n",
       "    .dataframe tbody tr th {\n",
       "        vertical-align: top;\n",
       "    }\n",
       "\n",
       "    .dataframe thead th {\n",
       "        text-align: right;\n",
       "    }\n",
       "</style>\n",
       "<table border=\"1\" class=\"dataframe\">\n",
       "  <thead>\n",
       "    <tr style=\"text-align: right;\">\n",
       "      <th></th>\n",
       "      <th>ID_compra</th>\n",
       "      <th>fecha</th>\n",
       "      <th>horario</th>\n",
       "      <th>categoria</th>\n",
       "      <th>precio_unitario</th>\n",
       "      <th>cantidad</th>\n",
       "      <th>envio</th>\n",
       "      <th>metodo_pago</th>\n",
       "    </tr>\n",
       "  </thead>\n",
       "  <tbody>\n",
       "    <tr>\n",
       "      <th>6164</th>\n",
       "      <td>6141</td>\n",
       "      <td>2023-12-31</td>\n",
       "      <td>17:49</td>\n",
       "      <td>Electrodomésticos</td>\n",
       "      <td>1509.9</td>\n",
       "      <td>5</td>\n",
       "      <td>377.48</td>\n",
       "      <td>Tarjeta de Crédito</td>\n",
       "    </tr>\n",
       "    <tr>\n",
       "      <th>6165</th>\n",
       "      <td>6148</td>\n",
       "      <td>2023-12-31</td>\n",
       "      <td>23:02</td>\n",
       "      <td>Papelería y oficina</td>\n",
       "      <td>14.0</td>\n",
       "      <td>2</td>\n",
       "      <td>3.36</td>\n",
       "      <td>Transferencia</td>\n",
       "    </tr>\n",
       "    <tr>\n",
       "      <th>6166</th>\n",
       "      <td>6123</td>\n",
       "      <td>2023-12-31</td>\n",
       "      <td>21:25</td>\n",
       "      <td>Alimentos y bebidas</td>\n",
       "      <td>77.9</td>\n",
       "      <td>1</td>\n",
       "      <td>7.79</td>\n",
       "      <td>Tarjeta de Crédito</td>\n",
       "    </tr>\n",
       "    <tr>\n",
       "      <th>6167</th>\n",
       "      <td>6147</td>\n",
       "      <td>2023-12-31</td>\n",
       "      <td>21:38</td>\n",
       "      <td>Libros</td>\n",
       "      <td>142.9</td>\n",
       "      <td>4</td>\n",
       "      <td>17.15</td>\n",
       "      <td>Tarjeta de Crédito</td>\n",
       "    </tr>\n",
       "    <tr>\n",
       "      <th>6168</th>\n",
       "      <td>6122</td>\n",
       "      <td>2023-12-31</td>\n",
       "      <td>22:11</td>\n",
       "      <td>Belleza e higiene</td>\n",
       "      <td>89.9</td>\n",
       "      <td>5</td>\n",
       "      <td>13.48</td>\n",
       "      <td>Tarjeta de Crédito</td>\n",
       "    </tr>\n",
       "  </tbody>\n",
       "</table>\n",
       "</div>"
      ],
      "text/plain": [
       "      ID_compra       fecha horario            categoria  precio_unitario  \\\n",
       "6164       6141  2023-12-31   17:49    Electrodomésticos           1509.9   \n",
       "6165       6148  2023-12-31   23:02  Papelería y oficina             14.0   \n",
       "6166       6123  2023-12-31   21:25  Alimentos y bebidas             77.9   \n",
       "6167       6147  2023-12-31   21:38               Libros            142.9   \n",
       "6168       6122  2023-12-31   22:11    Belleza e higiene             89.9   \n",
       "\n",
       "      cantidad   envio         metodo_pago  \n",
       "6164         5  377.48  Tarjeta de Crédito  \n",
       "6165         2    3.36       Transferencia  \n",
       "6166         1    7.79  Tarjeta de Crédito  \n",
       "6167         4   17.15  Tarjeta de Crédito  \n",
       "6168         5   13.48  Tarjeta de Crédito  "
      ]
     },
     "execution_count": 115,
     "metadata": {},
     "output_type": "execute_result"
    }
   ],
   "source": [
    "#Creamos el DataFrame de ventas\n",
    "ventas = pd.read_csv(url_ventas)\n",
    "ventas.tail()"
   ]
  },
  {
   "cell_type": "code",
   "execution_count": null,
   "metadata": {
    "id": "ssCTn_Em-xp6"
   },
   "outputs": [],
   "source": []
  },
  {
   "cell_type": "markdown",
   "metadata": {
    "id": "sGD1TbXWimjs"
   },
   "source": [
    "## **1.3 - Entendiendo los datos**\n",
    "\n",
    "---\n"
   ]
  },
  {
   "cell_type": "markdown",
   "metadata": {
    "id": "_j0wSj0Rjkjn"
   },
   "source": [
    "Ahora, vamos a explorar los datos comprendiendo lo que significan y cómo podemos relacionarlos en la construcción de las visualizaciones."
   ]
  },
  {
   "cell_type": "markdown",
   "metadata": {
    "id": "jQExeDtTkC4G"
   },
   "source": [
    "### **Base de clientes**"
   ]
  },
  {
   "cell_type": "markdown",
   "metadata": {
    "id": "VzsWSK91lIPb"
   },
   "source": [
    "> #### <strong><font color=\"7b71ff\" size =6>Prompt:</font></strong>\n",
    "\n",
    "Vamos a actuar como analistas de datos de una e-commerce. Recibimos dos bases de datos con los datos de los clientes y de las ventas en 2023, respectivamente.\n",
    "\n",
    "En este primer momento, vamos a explorar la base de clientes en formato de un DataFrame de pandas, llamado \"clientes\". Contiene datos de los clientes que realizaron compras en la tienda virtual, siendo estos: ID de la compra, ID del cliente, la ciudad, estado y región de la compra, edad, sexo biológico, si participan en el programa de cashback y la calificación, o nota, de la compra.\n",
    "\n",
    "Queremos hacer una breve exploración de los datos para comprender un poco sobre ellos. Recordando que los datos de esta base ya están limpios y tratados. Construye el código para ejecutar esta etapa utilizando Python con el objetivo de conocer mejor el dataframe \"clientes\" y algunos de sus atributos.\n",
    "\n",
    "No es necesario utilizar \"print()\" para mostrar el resultado de las consultas."
   ]
  },
  {
   "cell_type": "code",
   "execution_count": 118,
   "metadata": {
    "id": "aEL-RHLK-q9C"
   },
   "outputs": [
    {
     "data": {
      "text/html": [
       "<div>\n",
       "<style scoped>\n",
       "    .dataframe tbody tr th:only-of-type {\n",
       "        vertical-align: middle;\n",
       "    }\n",
       "\n",
       "    .dataframe tbody tr th {\n",
       "        vertical-align: top;\n",
       "    }\n",
       "\n",
       "    .dataframe thead th {\n",
       "        text-align: right;\n",
       "    }\n",
       "</style>\n",
       "<table border=\"1\" class=\"dataframe\">\n",
       "  <thead>\n",
       "    <tr style=\"text-align: right;\">\n",
       "      <th></th>\n",
       "      <th>ID_compra</th>\n",
       "      <th>ID_cliente</th>\n",
       "      <th>ciudad</th>\n",
       "      <th>estado</th>\n",
       "      <th>region</th>\n",
       "      <th>edad</th>\n",
       "      <th>sexo_biologico</th>\n",
       "      <th>cashback</th>\n",
       "      <th>nota</th>\n",
       "    </tr>\n",
       "  </thead>\n",
       "  <tbody>\n",
       "    <tr>\n",
       "      <th>0</th>\n",
       "      <td>904</td>\n",
       "      <td>8972</td>\n",
       "      <td>Oaxaca de Juárez</td>\n",
       "      <td>Oaxaca</td>\n",
       "      <td>Sur</td>\n",
       "      <td>49</td>\n",
       "      <td>Masculino</td>\n",
       "      <td>No</td>\n",
       "      <td>9</td>\n",
       "    </tr>\n",
       "    <tr>\n",
       "      <th>1</th>\n",
       "      <td>4613</td>\n",
       "      <td>5120</td>\n",
       "      <td>Ciudad de México</td>\n",
       "      <td>Ciudad de México</td>\n",
       "      <td>Centro</td>\n",
       "      <td>49</td>\n",
       "      <td>Femenino</td>\n",
       "      <td>No</td>\n",
       "      <td>9</td>\n",
       "    </tr>\n",
       "    <tr>\n",
       "      <th>2</th>\n",
       "      <td>5579</td>\n",
       "      <td>1847</td>\n",
       "      <td>Ciudad de México</td>\n",
       "      <td>Ciudad de México</td>\n",
       "      <td>Centro</td>\n",
       "      <td>24</td>\n",
       "      <td>Femenino</td>\n",
       "      <td>No</td>\n",
       "      <td>8</td>\n",
       "    </tr>\n",
       "    <tr>\n",
       "      <th>3</th>\n",
       "      <td>2405</td>\n",
       "      <td>2846</td>\n",
       "      <td>Ciudad de México</td>\n",
       "      <td>Ciudad de México</td>\n",
       "      <td>Centro</td>\n",
       "      <td>38</td>\n",
       "      <td>Femenino</td>\n",
       "      <td>Sí</td>\n",
       "      <td>7</td>\n",
       "    </tr>\n",
       "    <tr>\n",
       "      <th>4</th>\n",
       "      <td>2485</td>\n",
       "      <td>2715</td>\n",
       "      <td>Chihuahua</td>\n",
       "      <td>Chihuahua</td>\n",
       "      <td>Noroeste</td>\n",
       "      <td>30</td>\n",
       "      <td>Femenino</td>\n",
       "      <td>No</td>\n",
       "      <td>10</td>\n",
       "    </tr>\n",
       "  </tbody>\n",
       "</table>\n",
       "</div>"
      ],
      "text/plain": [
       "   ID_compra  ID_cliente            ciudad            estado    region  edad  \\\n",
       "0        904        8972  Oaxaca de Juárez            Oaxaca       Sur    49   \n",
       "1       4613        5120  Ciudad de México  Ciudad de México    Centro    49   \n",
       "2       5579        1847  Ciudad de México  Ciudad de México    Centro    24   \n",
       "3       2405        2846  Ciudad de México  Ciudad de México    Centro    38   \n",
       "4       2485        2715         Chihuahua         Chihuahua  Noroeste    30   \n",
       "\n",
       "  sexo_biologico cashback  nota  \n",
       "0      Masculino       No     9  \n",
       "1       Femenino       No     9  \n",
       "2       Femenino       No     8  \n",
       "3       Femenino       Sí     7  \n",
       "4       Femenino       No    10  "
      ]
     },
     "execution_count": 118,
     "metadata": {},
     "output_type": "execute_result"
    }
   ],
   "source": [
    "clientes.head()"
   ]
  },
  {
   "cell_type": "code",
   "execution_count": 119,
   "metadata": {},
   "outputs": [
    {
     "name": "stdout",
     "output_type": "stream",
     "text": [
      "<class 'pandas.core.frame.DataFrame'>\n",
      "RangeIndex: 6169 entries, 0 to 6168\n",
      "Data columns (total 9 columns):\n",
      " #   Column          Non-Null Count  Dtype \n",
      "---  ------          --------------  ----- \n",
      " 0   ID_compra       6169 non-null   int64 \n",
      " 1   ID_cliente      6169 non-null   int64 \n",
      " 2   ciudad          6169 non-null   object\n",
      " 3   estado          6169 non-null   object\n",
      " 4   region          6169 non-null   object\n",
      " 5   edad            6169 non-null   int64 \n",
      " 6   sexo_biologico  6169 non-null   object\n",
      " 7   cashback        6169 non-null   object\n",
      " 8   nota            6169 non-null   int64 \n",
      "dtypes: int64(4), object(5)\n",
      "memory usage: 433.9+ KB\n"
     ]
    }
   ],
   "source": [
    "clientes.info()"
   ]
  },
  {
   "cell_type": "code",
   "execution_count": 120,
   "metadata": {},
   "outputs": [
    {
     "data": {
      "text/html": [
       "<div>\n",
       "<style scoped>\n",
       "    .dataframe tbody tr th:only-of-type {\n",
       "        vertical-align: middle;\n",
       "    }\n",
       "\n",
       "    .dataframe tbody tr th {\n",
       "        vertical-align: top;\n",
       "    }\n",
       "\n",
       "    .dataframe thead th {\n",
       "        text-align: right;\n",
       "    }\n",
       "</style>\n",
       "<table border=\"1\" class=\"dataframe\">\n",
       "  <thead>\n",
       "    <tr style=\"text-align: right;\">\n",
       "      <th></th>\n",
       "      <th>ID_compra</th>\n",
       "      <th>ID_cliente</th>\n",
       "      <th>edad</th>\n",
       "      <th>nota</th>\n",
       "    </tr>\n",
       "  </thead>\n",
       "  <tbody>\n",
       "    <tr>\n",
       "      <th>count</th>\n",
       "      <td>6169.000000</td>\n",
       "      <td>6169.000000</td>\n",
       "      <td>6169.000000</td>\n",
       "      <td>6169.000000</td>\n",
       "    </tr>\n",
       "    <tr>\n",
       "      <th>mean</th>\n",
       "      <td>3085.000000</td>\n",
       "      <td>5461.475280</td>\n",
       "      <td>38.260010</td>\n",
       "      <td>8.443670</td>\n",
       "    </tr>\n",
       "    <tr>\n",
       "      <th>std</th>\n",
       "      <td>1780.981237</td>\n",
       "      <td>2610.959977</td>\n",
       "      <td>9.838951</td>\n",
       "      <td>1.730584</td>\n",
       "    </tr>\n",
       "    <tr>\n",
       "      <th>min</th>\n",
       "      <td>1.000000</td>\n",
       "      <td>1005.000000</td>\n",
       "      <td>18.000000</td>\n",
       "      <td>0.000000</td>\n",
       "    </tr>\n",
       "    <tr>\n",
       "      <th>25%</th>\n",
       "      <td>1543.000000</td>\n",
       "      <td>3148.000000</td>\n",
       "      <td>31.000000</td>\n",
       "      <td>8.000000</td>\n",
       "    </tr>\n",
       "    <tr>\n",
       "      <th>50%</th>\n",
       "      <td>3085.000000</td>\n",
       "      <td>5436.000000</td>\n",
       "      <td>38.000000</td>\n",
       "      <td>9.000000</td>\n",
       "    </tr>\n",
       "    <tr>\n",
       "      <th>75%</th>\n",
       "      <td>4627.000000</td>\n",
       "      <td>7748.000000</td>\n",
       "      <td>45.000000</td>\n",
       "      <td>9.000000</td>\n",
       "    </tr>\n",
       "    <tr>\n",
       "      <th>max</th>\n",
       "      <td>6169.000000</td>\n",
       "      <td>9999.000000</td>\n",
       "      <td>70.000000</td>\n",
       "      <td>10.000000</td>\n",
       "    </tr>\n",
       "  </tbody>\n",
       "</table>\n",
       "</div>"
      ],
      "text/plain": [
       "         ID_compra   ID_cliente         edad         nota\n",
       "count  6169.000000  6169.000000  6169.000000  6169.000000\n",
       "mean   3085.000000  5461.475280    38.260010     8.443670\n",
       "std    1780.981237  2610.959977     9.838951     1.730584\n",
       "min       1.000000  1005.000000    18.000000     0.000000\n",
       "25%    1543.000000  3148.000000    31.000000     8.000000\n",
       "50%    3085.000000  5436.000000    38.000000     9.000000\n",
       "75%    4627.000000  7748.000000    45.000000     9.000000\n",
       "max    6169.000000  9999.000000    70.000000    10.000000"
      ]
     },
     "execution_count": 120,
     "metadata": {},
     "output_type": "execute_result"
    }
   ],
   "source": [
    "clientes.describe()"
   ]
  },
  {
   "cell_type": "code",
   "execution_count": null,
   "metadata": {
    "id": "tTkM8H4t-qxj"
   },
   "outputs": [],
   "source": []
  },
  {
   "cell_type": "markdown",
   "metadata": {
    "id": "MT_FYn9jxvyy"
   },
   "source": [
    "### **Base de ventas**"
   ]
  },
  {
   "cell_type": "markdown",
   "metadata": {
    "id": "WMF2ZEvIxzA2"
   },
   "source": [
    "> #### <strong><font color=\"7b71ff\" size =6>Prompt:</font></strong>\n",
    "\n",
    "Ahora vamos explorar la base de ventas en formato de un DataFrame, llamado \"ventas\". Contiene datos de las ventas del comercio electrónico, que son: ID de la compra, fecha de la compra, hora de la compra, categoría del producto, precio unitario del producto, cantidad vendida, envío y el método de pago.\n",
    "\n",
    "Queremos hacer una breve exploración de los datos para comprender un poco sobre ellos. Recordando que los datos de esta base también están limpios y tratados. Construye el código para ejecutar esta etapa utilizando Python con el objetivo de conocer mejor el dataframe \"clientes\" y algunos de sus atributos."
   ]
  },
  {
   "cell_type": "code",
   "execution_count": 117,
   "metadata": {
    "id": "ErpavGF2-n-E"
   },
   "outputs": [
    {
     "data": {
      "text/html": [
       "<div>\n",
       "<style scoped>\n",
       "    .dataframe tbody tr th:only-of-type {\n",
       "        vertical-align: middle;\n",
       "    }\n",
       "\n",
       "    .dataframe tbody tr th {\n",
       "        vertical-align: top;\n",
       "    }\n",
       "\n",
       "    .dataframe thead th {\n",
       "        text-align: right;\n",
       "    }\n",
       "</style>\n",
       "<table border=\"1\" class=\"dataframe\">\n",
       "  <thead>\n",
       "    <tr style=\"text-align: right;\">\n",
       "      <th></th>\n",
       "      <th>ID_compra</th>\n",
       "      <th>fecha</th>\n",
       "      <th>horario</th>\n",
       "      <th>categoria</th>\n",
       "      <th>precio_unitario</th>\n",
       "      <th>cantidad</th>\n",
       "      <th>envio</th>\n",
       "      <th>metodo_pago</th>\n",
       "    </tr>\n",
       "  </thead>\n",
       "  <tbody>\n",
       "    <tr>\n",
       "      <th>0</th>\n",
       "      <td>6</td>\n",
       "      <td>2023-01-03</td>\n",
       "      <td>20:40</td>\n",
       "      <td>Electrónicos</td>\n",
       "      <td>4457.9</td>\n",
       "      <td>4</td>\n",
       "      <td>713.26</td>\n",
       "      <td>Paypal</td>\n",
       "    </tr>\n",
       "    <tr>\n",
       "      <th>1</th>\n",
       "      <td>5</td>\n",
       "      <td>2023-01-03</td>\n",
       "      <td>21:48</td>\n",
       "      <td>Herramientas y construcción</td>\n",
       "      <td>115.9</td>\n",
       "      <td>1</td>\n",
       "      <td>0.00</td>\n",
       "      <td>Transferencia</td>\n",
       "    </tr>\n",
       "    <tr>\n",
       "      <th>2</th>\n",
       "      <td>9</td>\n",
       "      <td>2023-01-03</td>\n",
       "      <td>17:08</td>\n",
       "      <td>Belleza e higiene</td>\n",
       "      <td>68.9</td>\n",
       "      <td>2</td>\n",
       "      <td>13.78</td>\n",
       "      <td>Tarjeta de Crédito</td>\n",
       "    </tr>\n",
       "    <tr>\n",
       "      <th>3</th>\n",
       "      <td>4</td>\n",
       "      <td>2023-01-03</td>\n",
       "      <td>14:29</td>\n",
       "      <td>Herramientas y construcción</td>\n",
       "      <td>80.9</td>\n",
       "      <td>5</td>\n",
       "      <td>40.45</td>\n",
       "      <td>Transferencia</td>\n",
       "    </tr>\n",
       "    <tr>\n",
       "      <th>4</th>\n",
       "      <td>8</td>\n",
       "      <td>2023-01-03</td>\n",
       "      <td>18:02</td>\n",
       "      <td>Belleza e higiene</td>\n",
       "      <td>165.0</td>\n",
       "      <td>4</td>\n",
       "      <td>0.00</td>\n",
       "      <td>Transferencia</td>\n",
       "    </tr>\n",
       "  </tbody>\n",
       "</table>\n",
       "</div>"
      ],
      "text/plain": [
       "   ID_compra       fecha horario                    categoria  \\\n",
       "0          6  2023-01-03   20:40                 Electrónicos   \n",
       "1          5  2023-01-03   21:48  Herramientas y construcción   \n",
       "2          9  2023-01-03   17:08            Belleza e higiene   \n",
       "3          4  2023-01-03   14:29  Herramientas y construcción   \n",
       "4          8  2023-01-03   18:02            Belleza e higiene   \n",
       "\n",
       "   precio_unitario  cantidad   envio         metodo_pago  \n",
       "0           4457.9         4  713.26              Paypal  \n",
       "1            115.9         1    0.00       Transferencia  \n",
       "2             68.9         2   13.78  Tarjeta de Crédito  \n",
       "3             80.9         5   40.45       Transferencia  \n",
       "4            165.0         4    0.00       Transferencia  "
      ]
     },
     "execution_count": 117,
     "metadata": {},
     "output_type": "execute_result"
    }
   ],
   "source": [
    "# Visualizar las primeras filas del DataFrame\n",
    "ventas.head()"
   ]
  },
  {
   "cell_type": "code",
   "execution_count": 122,
   "metadata": {
    "id": "4IZIkGfF-nvS"
   },
   "outputs": [
    {
     "name": "stdout",
     "output_type": "stream",
     "text": [
      "<class 'pandas.core.frame.DataFrame'>\n",
      "RangeIndex: 6169 entries, 0 to 6168\n",
      "Data columns (total 8 columns):\n",
      " #   Column           Non-Null Count  Dtype  \n",
      "---  ------           --------------  -----  \n",
      " 0   ID_compra        6169 non-null   int64  \n",
      " 1   fecha            6169 non-null   object \n",
      " 2   horario          6169 non-null   object \n",
      " 3   categoria        6169 non-null   object \n",
      " 4   precio_unitario  6169 non-null   float64\n",
      " 5   cantidad         6169 non-null   int64  \n",
      " 6   envio            6169 non-null   float64\n",
      " 7   metodo_pago      6169 non-null   object \n",
      "dtypes: float64(2), int64(2), object(4)\n",
      "memory usage: 385.7+ KB\n"
     ]
    }
   ],
   "source": [
    "# Visualizar las primeras filas del DataFrame\n",
    "ventas.info()"
   ]
  },
  {
   "cell_type": "code",
   "execution_count": 150,
   "metadata": {},
   "outputs": [],
   "source": [
    "ventas['fecha'] = pd.to_datetime(ventas['fecha'], format='%Y-%m-%d')\n",
    "ventas['horario'] = pd.to_datetime(ventas['horario'], format='%H:%M').dt.time"
   ]
  },
  {
   "cell_type": "code",
   "execution_count": 133,
   "metadata": {
    "id": "p0FIKkM6-nso"
   },
   "outputs": [
    {
     "data": {
      "text/html": [
       "<div>\n",
       "<style scoped>\n",
       "    .dataframe tbody tr th:only-of-type {\n",
       "        vertical-align: middle;\n",
       "    }\n",
       "\n",
       "    .dataframe tbody tr th {\n",
       "        vertical-align: top;\n",
       "    }\n",
       "\n",
       "    .dataframe thead th {\n",
       "        text-align: right;\n",
       "    }\n",
       "</style>\n",
       "<table border=\"1\" class=\"dataframe\">\n",
       "  <thead>\n",
       "    <tr style=\"text-align: right;\">\n",
       "      <th></th>\n",
       "      <th>ID_compra</th>\n",
       "      <th>fecha</th>\n",
       "      <th>precio_unitario</th>\n",
       "      <th>cantidad</th>\n",
       "      <th>envio</th>\n",
       "    </tr>\n",
       "  </thead>\n",
       "  <tbody>\n",
       "    <tr>\n",
       "      <th>count</th>\n",
       "      <td>6169.000000</td>\n",
       "      <td>6169</td>\n",
       "      <td>6169.000000</td>\n",
       "      <td>6169.000000</td>\n",
       "      <td>6169.000000</td>\n",
       "    </tr>\n",
       "    <tr>\n",
       "      <th>mean</th>\n",
       "      <td>3085.000000</td>\n",
       "      <td>2023-08-20 00:12:22.292105984</td>\n",
       "      <td>873.234738</td>\n",
       "      <td>3.004863</td>\n",
       "      <td>119.233832</td>\n",
       "    </tr>\n",
       "    <tr>\n",
       "      <th>min</th>\n",
       "      <td>1.000000</td>\n",
       "      <td>2023-01-03 00:00:00</td>\n",
       "      <td>2.900000</td>\n",
       "      <td>1.000000</td>\n",
       "      <td>0.000000</td>\n",
       "    </tr>\n",
       "    <tr>\n",
       "      <th>25%</th>\n",
       "      <td>1543.000000</td>\n",
       "      <td>2023-05-30 00:00:00</td>\n",
       "      <td>44.900000</td>\n",
       "      <td>2.000000</td>\n",
       "      <td>0.320000</td>\n",
       "    </tr>\n",
       "    <tr>\n",
       "      <th>50%</th>\n",
       "      <td>3085.000000</td>\n",
       "      <td>2023-08-31 00:00:00</td>\n",
       "      <td>93.900000</td>\n",
       "      <td>3.000000</td>\n",
       "      <td>7.550000</td>\n",
       "    </tr>\n",
       "    <tr>\n",
       "      <th>75%</th>\n",
       "      <td>4627.000000</td>\n",
       "      <td>2023-11-23 00:00:00</td>\n",
       "      <td>221.900000</td>\n",
       "      <td>4.000000</td>\n",
       "      <td>29.240000</td>\n",
       "    </tr>\n",
       "    <tr>\n",
       "      <th>max</th>\n",
       "      <td>6169.000000</td>\n",
       "      <td>2023-12-31 00:00:00</td>\n",
       "      <td>8000.000000</td>\n",
       "      <td>5.000000</td>\n",
       "      <td>4521.540000</td>\n",
       "    </tr>\n",
       "    <tr>\n",
       "      <th>std</th>\n",
       "      <td>1780.981237</td>\n",
       "      <td>NaN</td>\n",
       "      <td>1852.064342</td>\n",
       "      <td>1.420725</td>\n",
       "      <td>366.149225</td>\n",
       "    </tr>\n",
       "  </tbody>\n",
       "</table>\n",
       "</div>"
      ],
      "text/plain": [
       "         ID_compra                          fecha  precio_unitario  \\\n",
       "count  6169.000000                           6169      6169.000000   \n",
       "mean   3085.000000  2023-08-20 00:12:22.292105984       873.234738   \n",
       "min       1.000000            2023-01-03 00:00:00         2.900000   \n",
       "25%    1543.000000            2023-05-30 00:00:00        44.900000   \n",
       "50%    3085.000000            2023-08-31 00:00:00        93.900000   \n",
       "75%    4627.000000            2023-11-23 00:00:00       221.900000   \n",
       "max    6169.000000            2023-12-31 00:00:00      8000.000000   \n",
       "std    1780.981237                            NaN      1852.064342   \n",
       "\n",
       "          cantidad        envio  \n",
       "count  6169.000000  6169.000000  \n",
       "mean      3.004863   119.233832  \n",
       "min       1.000000     0.000000  \n",
       "25%       2.000000     0.320000  \n",
       "50%       3.000000     7.550000  \n",
       "75%       4.000000    29.240000  \n",
       "max       5.000000  4521.540000  \n",
       "std       1.420725   366.149225  "
      ]
     },
     "execution_count": 133,
     "metadata": {},
     "output_type": "execute_result"
    }
   ],
   "source": [
    "# Estadísticas descriptivas de variables numéricas\n",
    "ventas.describe()"
   ]
  },
  {
   "cell_type": "code",
   "execution_count": 134,
   "metadata": {},
   "outputs": [
    {
     "data": {
      "text/plain": [
       "categoria\n",
       "Alimentos y bebidas            1495\n",
       "Belleza e higiene              1062\n",
       "Casa y aseo                    1041\n",
       "Electrodomésticos               665\n",
       "Electrónicos                    580\n",
       "Papelería y oficina             551\n",
       "Herramientas y construcción     474\n",
       "Libros                          301\n",
       "Name: count, dtype: int64"
      ]
     },
     "execution_count": 134,
     "metadata": {},
     "output_type": "execute_result"
    }
   ],
   "source": [
    "# Distribución de variables categóricas relevantes\n",
    "ventas['categoria'].value_counts()"
   ]
  },
  {
   "cell_type": "code",
   "execution_count": 135,
   "metadata": {},
   "outputs": [
    {
     "data": {
      "text/plain": [
       "metodo_pago\n",
       "Tarjeta de Crédito    2851\n",
       "Transferencia         2244\n",
       "Tarjeta de Débito      547\n",
       "Paypal                 527\n",
       "Name: count, dtype: int64"
      ]
     },
     "execution_count": 135,
     "metadata": {},
     "output_type": "execute_result"
    }
   ],
   "source": [
    "\n",
    "ventas['metodo_pago'].value_counts()"
   ]
  },
  {
   "cell_type": "code",
   "execution_count": null,
   "metadata": {},
   "outputs": [],
   "source": []
  },
  {
   "cell_type": "markdown",
   "metadata": {
    "id": "0JlV1G5ST0ij"
   },
   "source": [
    "## **1.4 - Tipos de gráficos**\n",
    "\n",
    "---\n"
   ]
  },
  {
   "cell_type": "markdown",
   "metadata": {
    "id": "viFLQ7iIT9Lk"
   },
   "source": [
    "Ya hemos explorado un poco de las dos bases del proyecto y obtuvimos algunos insights interesantes que pueden ser importantes en la construcción de nuestras visualizaciones.\n",
    "\n",
    "Ahora, intentemos simplificar nuestro análisis consolidando los datos en una única tabla para, a partir de ahí, enfocarnos en las posibilidades de visuales combinando los datos. ¿Podrá GPT ayudarnos aquí?"
   ]
  },
  {
   "cell_type": "markdown",
   "metadata": {
    "id": "Q9msYRqEUh6B"
   },
   "source": [
    "> #### <strong><font color=\"7b71ff\" size =6>Prompt:</font></strong>\n",
    "\n",
    "Ahora vamos a unir las dos bases de nuestro proyecto en una sola utilizando como llave la columna \"ID_compra\". Además, organizaremos las columnas en la siguiente secuencia:\n",
    "\n",
    "* ID_compra\n",
    "* fecha\n",
    "* horario\n",
    "* categoria\n",
    "* precio_unitario\n",
    "* cantidad\n",
    "* envio\n",
    "* metodo_pago\n",
    "* ID_cliente\n",
    "* edad\n",
    "* sexo_biologico\n",
    "* ciudad\n",
    "* estado\n",
    "* region\n",
    "* cashback\n",
    "* nota\n",
    "\n",
    "Construye un código para ejecutar esta etapa usando Python y la biblioteca Pandas.\n"
   ]
  },
  {
   "cell_type": "code",
   "execution_count": 136,
   "metadata": {
    "id": "Xnt5nQnX-kuS"
   },
   "outputs": [
    {
     "data": {
      "text/html": [
       "<div>\n",
       "<style scoped>\n",
       "    .dataframe tbody tr th:only-of-type {\n",
       "        vertical-align: middle;\n",
       "    }\n",
       "\n",
       "    .dataframe tbody tr th {\n",
       "        vertical-align: top;\n",
       "    }\n",
       "\n",
       "    .dataframe thead th {\n",
       "        text-align: right;\n",
       "    }\n",
       "</style>\n",
       "<table border=\"1\" class=\"dataframe\">\n",
       "  <thead>\n",
       "    <tr style=\"text-align: right;\">\n",
       "      <th></th>\n",
       "      <th>ID_compra</th>\n",
       "      <th>fecha</th>\n",
       "      <th>horario</th>\n",
       "      <th>categoria</th>\n",
       "      <th>precio_unitario</th>\n",
       "      <th>cantidad</th>\n",
       "      <th>envio</th>\n",
       "      <th>metodo_pago</th>\n",
       "      <th>ID_cliente</th>\n",
       "      <th>edad</th>\n",
       "      <th>sexo_biologico</th>\n",
       "      <th>ciudad</th>\n",
       "      <th>estado</th>\n",
       "      <th>region</th>\n",
       "      <th>cashback</th>\n",
       "      <th>nota</th>\n",
       "    </tr>\n",
       "  </thead>\n",
       "  <tbody>\n",
       "    <tr>\n",
       "      <th>0</th>\n",
       "      <td>6</td>\n",
       "      <td>2023-01-03</td>\n",
       "      <td>20:40</td>\n",
       "      <td>Electrónicos</td>\n",
       "      <td>4457.9</td>\n",
       "      <td>4</td>\n",
       "      <td>713.26</td>\n",
       "      <td>Paypal</td>\n",
       "      <td>6149</td>\n",
       "      <td>30</td>\n",
       "      <td>Masculino</td>\n",
       "      <td>Hermosillo</td>\n",
       "      <td>Sonora</td>\n",
       "      <td>Noroeste</td>\n",
       "      <td>Sí</td>\n",
       "      <td>10</td>\n",
       "    </tr>\n",
       "    <tr>\n",
       "      <th>1</th>\n",
       "      <td>5</td>\n",
       "      <td>2023-01-03</td>\n",
       "      <td>21:48</td>\n",
       "      <td>Herramientas y construcción</td>\n",
       "      <td>115.9</td>\n",
       "      <td>1</td>\n",
       "      <td>0.00</td>\n",
       "      <td>Transferencia</td>\n",
       "      <td>9491</td>\n",
       "      <td>36</td>\n",
       "      <td>Masculino</td>\n",
       "      <td>Ciudad de México</td>\n",
       "      <td>Ciudad de México</td>\n",
       "      <td>Centro</td>\n",
       "      <td>Sí</td>\n",
       "      <td>8</td>\n",
       "    </tr>\n",
       "    <tr>\n",
       "      <th>2</th>\n",
       "      <td>9</td>\n",
       "      <td>2023-01-03</td>\n",
       "      <td>17:08</td>\n",
       "      <td>Belleza e higiene</td>\n",
       "      <td>68.9</td>\n",
       "      <td>2</td>\n",
       "      <td>13.78</td>\n",
       "      <td>Tarjeta de Crédito</td>\n",
       "      <td>5288</td>\n",
       "      <td>39</td>\n",
       "      <td>Femenino</td>\n",
       "      <td>Aguascalientes</td>\n",
       "      <td>Aguascalientes</td>\n",
       "      <td>Centro-Norte</td>\n",
       "      <td>No</td>\n",
       "      <td>7</td>\n",
       "    </tr>\n",
       "    <tr>\n",
       "      <th>3</th>\n",
       "      <td>4</td>\n",
       "      <td>2023-01-03</td>\n",
       "      <td>14:29</td>\n",
       "      <td>Herramientas y construcción</td>\n",
       "      <td>80.9</td>\n",
       "      <td>5</td>\n",
       "      <td>40.45</td>\n",
       "      <td>Transferencia</td>\n",
       "      <td>9679</td>\n",
       "      <td>35</td>\n",
       "      <td>Masculino</td>\n",
       "      <td>Veracruz</td>\n",
       "      <td>Veracruz</td>\n",
       "      <td>Golfo</td>\n",
       "      <td>Sí</td>\n",
       "      <td>9</td>\n",
       "    </tr>\n",
       "    <tr>\n",
       "      <th>4</th>\n",
       "      <td>8</td>\n",
       "      <td>2023-01-03</td>\n",
       "      <td>18:02</td>\n",
       "      <td>Belleza e higiene</td>\n",
       "      <td>165.0</td>\n",
       "      <td>4</td>\n",
       "      <td>0.00</td>\n",
       "      <td>Transferencia</td>\n",
       "      <td>1380</td>\n",
       "      <td>50</td>\n",
       "      <td>Masculino</td>\n",
       "      <td>Ciudad de México</td>\n",
       "      <td>Ciudad de México</td>\n",
       "      <td>Centro</td>\n",
       "      <td>No</td>\n",
       "      <td>9</td>\n",
       "    </tr>\n",
       "  </tbody>\n",
       "</table>\n",
       "</div>"
      ],
      "text/plain": [
       "   ID_compra      fecha horario                    categoria  precio_unitario  \\\n",
       "0          6 2023-01-03   20:40                 Electrónicos           4457.9   \n",
       "1          5 2023-01-03   21:48  Herramientas y construcción            115.9   \n",
       "2          9 2023-01-03   17:08            Belleza e higiene             68.9   \n",
       "3          4 2023-01-03   14:29  Herramientas y construcción             80.9   \n",
       "4          8 2023-01-03   18:02            Belleza e higiene            165.0   \n",
       "\n",
       "   cantidad   envio         metodo_pago  ID_cliente  edad sexo_biologico  \\\n",
       "0         4  713.26              Paypal        6149    30      Masculino   \n",
       "1         1    0.00       Transferencia        9491    36      Masculino   \n",
       "2         2   13.78  Tarjeta de Crédito        5288    39       Femenino   \n",
       "3         5   40.45       Transferencia        9679    35      Masculino   \n",
       "4         4    0.00       Transferencia        1380    50      Masculino   \n",
       "\n",
       "             ciudad            estado        region cashback  nota  \n",
       "0        Hermosillo            Sonora      Noroeste       Sí    10  \n",
       "1  Ciudad de México  Ciudad de México        Centro       Sí     8  \n",
       "2    Aguascalientes    Aguascalientes  Centro-Norte       No     7  \n",
       "3          Veracruz          Veracruz         Golfo       Sí     9  \n",
       "4  Ciudad de México  Ciudad de México        Centro       No     9  "
      ]
     },
     "execution_count": 136,
     "metadata": {},
     "output_type": "execute_result"
    }
   ],
   "source": [
    "# Unir los DataFrames por la columna 'ID_compra'\n",
    "df_unido = pd.merge(ventas, clientes, on='ID_compra', how='inner')\n",
    "\n",
    "# Reorganizar las columnas en el orden especificado\n",
    "columnas_ordenadas = [\n",
    "    'ID_compra', 'fecha', 'horario', 'categoria', 'precio_unitario', 'cantidad', 'envio', 'metodo_pago',\n",
    "    'ID_cliente', 'edad', 'sexo_biologico', 'ciudad', 'estado', 'region', 'cashback', 'nota'\n",
    "]\n",
    "df_unido = df_unido[columnas_ordenadas]\n",
    "\n",
    "# Visualizar las primeras filas del DataFrame unido\n",
    "df_unido.head()"
   ]
  },
  {
   "cell_type": "code",
   "execution_count": null,
   "metadata": {
    "id": "OxWC_J80-kmI"
   },
   "outputs": [],
   "source": []
  },
  {
   "cell_type": "markdown",
   "metadata": {
    "id": "53Rx8QHRXBDx"
   },
   "source": [
    "Ahora le pediremos a ChatGPT ideas de visuales que podamos contruir con esos datos"
   ]
  },
  {
   "cell_type": "markdown",
   "metadata": {
    "id": "RQ7xEhDRklQi"
   },
   "source": [
    "> #### <strong><font color=\"7b71ff\" size =6>Prompt:</font></strong>\n",
    "\n",
    "Ahora con nuestro \"df\" ya construido a partir de las dos bases del proyecto, vamos a iniciar un nuevo proceso. Queremos comenzar la etapa de generación de visuales que puedan ayudar en el análisis de la facturación a lo largo del año, el perfil del cliente y otros datos que puedan ser relevantes para el análisis y la construcción de nuestra narrativa.\n",
    "\n",
    "Las columnas de \"df\" son:\n",
    "\n",
    "* ID_compra: número único asignado a la compra realizada, en formato int\n",
    "* fecha: fecha de la compra, en formato datetime\n",
    "* horario: hora de la compra, en formato object\n",
    "* categoria: categoría del producto, en formato object\n",
    "* precio_unitario: precio de una unidad del producto, en formato float\n",
    "* cantidad: cantidad vendida del producto, en formato int\n",
    "* envio: costo de envío a ser pagado en total de la compra, en formato float\n",
    "* metodo_pago: método de pago de la compra, en formato object\n",
    "* ID_cliente: número único asignado al cliente, en formato int\n",
    "* edad: edad del cliente, en formato int\n",
    "* sexo_biologico: sexo biológico del cliente, en formato object\n",
    "* ciudad: ciudad del cliente, en formato object\n",
    "* estado: estado del cliente, en formato object\n",
    "* region: región del cliente, en formato object\n",
    "* cashback: si el cliente participa o no en el programa de cashback de la tienda, en formato object\n",
    "* nota: evaluación del cliente por la compra, en formato int\n",
    "\n",
    "El objetivo es abstraer y buscar relaciones para construir visualizaciones interesantes para el análisis de los datos de los clientes y ventas de Zoop.\n",
    "\n",
    "Con base en la información proporcionada, ¿qué tipos de visualizaciones serían útiles para alcanzar el objetivo de analizar los datos?"
   ]
  },
  {
   "cell_type": "markdown",
   "metadata": {},
   "source": [
    "#### **Análisis de Facturación a lo largo del año**"
   ]
  },
  {
   "cell_type": "code",
   "execution_count": 137,
   "metadata": {
    "id": "H1sk7i27-hJm"
   },
   "outputs": [
    {
     "data": {
      "image/png": "[encoded data removed]",
      "text/plain": [
       "<Figure size 640x480 with 1 Axes>"
      ]
     },
     "metadata": {},
     "output_type": "display_data"
    }
   ],
   "source": [
    "df_unido['mes'] = df_unido['fecha'].dt.to_period('M').dt.to_timestamp()\n",
    "df_unido['total_facturado'] = df_unido['precio_unitario'] * df_unido['cantidad'] + df_unido['envio']\n",
    "\n",
    "df_mensual = df_unido.groupby('mes')['total_facturado'].sum().reset_index()\n",
    "\n",
    "import seaborn as sns\n",
    "import matplotlib.pyplot as plt\n",
    "\n",
    "sns.lineplot(data=df_mensual, x='mes', y='total_facturado')\n",
    "plt.title('Evolución de la facturación mensual')\n",
    "plt.xlabel('Mes')\n",
    "plt.ylabel('Total facturado')\n",
    "plt.xticks(rotation=45)\n",
    "plt.tight_layout()\n",
    "plt.show()\n"
   ]
  },
  {
   "cell_type": "markdown",
   "metadata": {},
   "source": [
    "#### **Distribución de ventas por categoría de producto**"
   ]
  },
  {
   "cell_type": "code",
   "execution_count": 139,
   "metadata": {},
   "outputs": [
    {
     "data": {
      "image/png": "[encoded data removed]",
      "text/plain": [
       "<Figure size 1000x500 with 1 Axes>"
      ]
     },
     "metadata": {},
     "output_type": "display_data"
    }
   ],
   "source": [
    "df_categoria = df_unido.groupby('categoria')['total_facturado'].sum().sort_values(ascending=False)\n",
    "\n",
    "df_categoria.plot(kind='bar', figsize=(10, 5), title='Facturación por categoría de producto')\n",
    "plt.ylabel('Total facturado')\n",
    "plt.xlabel('Categoría')\n",
    "plt.xticks(rotation=45)\n",
    "plt.tight_layout()\n",
    "plt.show()\n"
   ]
  },
  {
   "cell_type": "markdown",
   "metadata": {},
   "source": [
    "#### **Perfil del cliente por edad y sexo**"
   ]
  },
  {
   "cell_type": "code",
   "execution_count": 141,
   "metadata": {},
   "outputs": [
    {
     "data": {
      "image/png": "[encoded data removed]",
      "text/plain": [
       "<Figure size 640x480 with 1 Axes>"
      ]
     },
     "metadata": {},
     "output_type": "display_data"
    },
    {
     "data": {
      "image/png": "[encoded data removed]",
      "text/plain": [
       "<Figure size 640x480 with 1 Axes>"
      ]
     },
     "metadata": {},
     "output_type": "display_data"
    }
   ],
   "source": [
    "sns.histplot(data=df_unido, x='edad', kde=True, bins=20)\n",
    "plt.title('Distribución de edades de los clientes')\n",
    "plt.xlabel('Edad')\n",
    "plt.ylabel('Cantidad')\n",
    "plt.show()\n",
    "\n",
    "# Agrupamiento por rango de edad\n",
    "df_unido['grupo_edad'] = pd.cut(df_unido['edad'], bins=[15, 25, 35, 45, 55, 65, 80], \n",
    "                          labels=['16-25','26-35','36-45','46-55','56-65','66-80'])\n",
    "\n",
    "pd.crosstab(df_unido['grupo_edad'], df_unido['sexo_biologico']).plot(kind='bar', stacked=True)\n",
    "plt.title('Sexo biológico por grupo de edad')\n",
    "plt.ylabel('Cantidad')\n",
    "plt.xlabel('Grupo de edad')\n",
    "plt.tight_layout()\n",
    "plt.show()\n"
   ]
  },
  {
   "cell_type": "markdown",
   "metadata": {},
   "source": [
    "#### **Participación del cashback y calificaciones**"
   ]
  },
  {
   "cell_type": "code",
   "execution_count": 143,
   "metadata": {
    "id": "RaXOh3ye-gtT"
   },
   "outputs": [
    {
     "data": {
      "image/png": "[encoded data removed]",
      "text/plain": [
       "<Figure size 640x480 with 1 Axes>"
      ]
     },
     "metadata": {},
     "output_type": "display_data"
    }
   ],
   "source": [
    "sns.boxplot(data=df_unido, x='cashback', y='nota')\n",
    "plt.title('Nota de compra según participación en Cashback')\n",
    "plt.xlabel('Participa en Cashback')\n",
    "plt.ylabel('Nota de compra')\n",
    "plt.show()\n"
   ]
  },
  {
   "cell_type": "markdown",
   "metadata": {},
   "source": [
    "#### **Métodos de pago más utilizados**"
   ]
  },
  {
   "cell_type": "code",
   "execution_count": 144,
   "metadata": {},
   "outputs": [
    {
     "data": {
      "image/png": "[encoded data removed]",
      "text/plain": [
       "<Figure size 600x600 with 1 Axes>"
      ]
     },
     "metadata": {},
     "output_type": "display_data"
    }
   ],
   "source": [
    "df_unido['metodo_pago'].value_counts().plot(kind='pie', autopct='%1.1f%%', figsize=(6,6), title='Distribución de métodos de pago')\n",
    "plt.ylabel('')\n",
    "plt.show()\n"
   ]
  },
  {
   "cell_type": "markdown",
   "metadata": {},
   "source": [
    "#### **Mapa geográfico de clientes por región o estado**"
   ]
  },
  {
   "cell_type": "code",
   "execution_count": 145,
   "metadata": {},
   "outputs": [
    {
     "data": {
      "image/png": "[encoded data removed]",
      "text/plain": [
       "<Figure size 1000x500 with 1 Axes>"
      ]
     },
     "metadata": {},
     "output_type": "display_data"
    }
   ],
   "source": [
    "df_estado = df_unido.groupby('estado')['total_facturado'].sum().sort_values(ascending=False)\n",
    "\n",
    "df_estado.plot(kind='bar', figsize=(10, 5), title='Facturación por estado')\n",
    "plt.ylabel('Total facturado')\n",
    "plt.xlabel('Estado')\n",
    "plt.xticks(rotation=45)\n",
    "plt.tight_layout()\n",
    "plt.show()\n"
   ]
  },
  {
   "cell_type": "markdown",
   "metadata": {},
   "source": [
    "#### **Horarios con más ventas**"
   ]
  },
  {
   "cell_type": "code",
   "execution_count": 154,
   "metadata": {},
   "outputs": [
    {
     "data": {
      "image/png": "[encoded data removed]",
      "text/plain": [
       "<Figure size 1000x500 with 1 Axes>"
      ]
     },
     "metadata": {},
     "output_type": "display_data"
    }
   ],
   "source": [
    "df_unido['horario'] = pd.to_datetime(df_unido['horario'], format='%H:%M').dt.hour\n",
    "df_unido['horario'].value_counts().sort_index().plot(kind='bar', figsize=(10, 5), title='Cantidad de compras por horario del día')\n",
    "plt.xlabel('Hora del día')\n",
    "plt.ylabel('Cantidad de compras')\n",
    "plt.xticks(rotation=45)\n",
    "plt.tight_layout()\n",
    "plt.show()\n"
   ]
  },
  {
   "cell_type": "markdown",
   "metadata": {
    "id": "s9k5kKMU1mvw"
   },
   "source": [
    "# **Clase 2 - Visualizando los dados**"
   ]
  },
  {
   "cell_type": "markdown",
   "metadata": {
    "id": "V12xn1TszsSs"
   },
   "source": [
    "ChatGPT trajo algunas ideas interesantes para la creación de los gráficos.\n",
    "\n",
    "Sin embargo, como ya tenemos algunas preguntas para guiarnos en la creación de los visuales, no vamos a seguir todas las sugerencias aquí mencionadas.\n",
    "\n",
    "Queda como una sugerencia para ayudarte cuando estés trabajando con otras bases y tengas dificultades para pensar en qué visualizaciones podrías construir.\n",
    "\n",
    "**Observación:** Recordando que es muy probable que los gráficos que se me señalaron, no sean necesariamente los mismos que aparecerán para ti, dado a la aleatoriedad de las respuestas de cualquier IA generativa."
   ]
  },
  {
   "cell_type": "markdown",
   "metadata": {
    "id": "LQuD_W_n1xk3"
   },
   "source": [
    "## **2.1 - Definiendo los visualizaciones**\n",
    "\n",
    "---"
   ]
  },
  {
   "cell_type": "markdown",
   "metadata": {
    "id": "UHZIUzEf4TzJ"
   },
   "source": [
    "Después de la etapa de exploración de los datos, vamos a leer las preguntas que se plantearon en la demanda que recibimos. Así, comenzaremos a pensar en los visuales que vamos a construir con la ayuda de la IA.\n",
    "\n",
    "### **Preguntas**\n",
    "\n",
    "#### Ventas\n",
    "\n",
    "1. ¿Cuáles fueron los métodos de pago más utilizados en 2023?\n",
    "2. ¿Cuál fue la facturación por categoría en 2023?\n",
    "3. ¿Cómo fueron las ventas a lo largo de los meses en 2023?\n",
    "4. ¿Cómo se divide la venta por trimestre por método de pago? ¿Existe un período en que algún tipo de pago se destaca?\n",
    "\n",
    "\n",
    "#### Perfil del cliente\n",
    "\n",
    "5. ¿Cuál es la proporción de la clientela que participa en nuestro programa de cashback?\n",
    "6. ¿Cómo están distribuidas las evaluaciones del producto? ¿Tenemos buenos números generales?\n",
    "7. ¿Cómo se distribuye nuestro público por edad y sexo biológico? ¿Existe un grupo que se destaca?\n",
    "\n",
    "Inicialmente, vamos a hacer la primera versión de los gráficos, aún no refinados con los elementos visuales, para más adelante ir añadiendo las diversas técnicas de storytelling."
   ]
  },
  {
   "cell_type": "markdown",
   "metadata": {
    "id": "nuximvEi5Jsc"
   },
   "source": [
    "### **1ra Pregunta:** ¿Cuáles fueron los métodos de pago más utilizados en 2023?"
   ]
  },
  {
   "cell_type": "markdown",
   "metadata": {
    "id": "sp3YpxjOCdBY"
   },
   "source": [
    "Le vamos pedir a ChatGPT que nos auxilie en la construcción de este visual. Primero, trataremos los datos generando una tabla resumida (que también es una especie de visual) y luego construiremos el primer gráfico."
   ]
  },
  {
   "cell_type": "markdown",
   "metadata": {
    "id": "qHwZZA1lG6JY"
   },
   "source": [
    "> #### <strong><font color=\"7b71ff\" size=6>Prompt:</font></strong>\n",
    "\n",
    "Tenemos un DataFrame llamado \"df\" y queremos construir un visual que presente cuáles métodos de pago fueron los más utilizados.\n",
    "\n",
    "En \"df\", tenemos la columna \"metodo_pago\" con los 4 tipos de pago utilizados en la compra.\n",
    "\n",
    "Inicialmente, queremos construir una tabla llamada \"metodos_de_pago\" que resuma los datos de esta columna y, a continuación, deseamos crear una visualización que muestre la cantidad de esos métodos de pago presentes en la tabla \"metodo_pago\".\n",
    "\n",
    "Utiliza las bibliotecas de visualización de datos de Python para crear esta visualización.\n"
   ]
  },
  {
   "cell_type": "code",
   "execution_count": null,
   "metadata": {
    "id": "v2_h5RAO-LFW"
   },
   "outputs": [],
   "source": []
  },
  {
   "cell_type": "code",
   "execution_count": null,
   "metadata": {
    "id": "enfDEbZ6-Q7j"
   },
   "outputs": [],
   "source": []
  },
  {
   "cell_type": "code",
   "execution_count": null,
   "metadata": {
    "id": "lzcvPTO_-K_p"
   },
   "outputs": [],
   "source": []
  },
  {
   "cell_type": "markdown",
   "metadata": {
    "id": "kMyT9b9AMESv"
   },
   "source": [
    "\n",
    "<font color=\"7b71ff\" size=4> Comentarios: </font>\n",
    "\n",
    "---\n",
    "\n",
    "Podemos observar que, incluso sin especificar el tipo de gráfico, por la forma en que presentamos los datos a ChatGPT, logró representar con éxito un visual que muestra la información deseada. Un gráfico de barras es realmente ideal para representar las cantidades de una o más categorías de datos.\n",
    "\n",
    "Iremos ajustando poco a poco los visuales para que se adecuen a nuestro público y reflejen la identidad visual de la empresa.\n"
   ]
  },
  {
   "cell_type": "markdown",
   "metadata": {
    "id": "lBBf_RevoKjD"
   },
   "source": [
    "## **2.2 - Comparando los datos**\n",
    "\n",
    "---"
   ]
  },
  {
   "cell_type": "markdown",
   "metadata": {
    "id": "sov50T6wMN3L"
   },
   "source": [
    "### **2da Pregunta:** ¿Cuál fue la facturación por categoria em 2023?"
   ]
  },
  {
   "cell_type": "markdown",
   "metadata": {
    "id": "kMl9XgD3OGrc"
   },
   "source": [
    "**Observación:** Para la facturación, consideraremos aquí el producto entre el precio unitario y la cantidad, sumados al costo de envío de cada producto.\n"
   ]
  },
  {
   "cell_type": "markdown",
   "metadata": {
    "id": "E4bKaRL8OprF"
   },
   "source": [
    "> #### <strong><font color=\"7b71ff\" size=6>Prompt:</font></strong>\n",
    "\n",
    "Tenemos un DataFrame llamado \"df\" y queremos construir un gráfico de barras horizontales que muestre la facturación por categoría de Zoop.\n",
    "\n",
    "En \"df\", tenemos las siguientes columnas:\n",
    "* categoria: categorías de los productos\n",
    "* precio_unitario: precio de una unidad del producto\n",
    "* cantidad: cantidad vendida del producto\n",
    "* envio: costo de envío total de la compra.\n",
    "\n",
    "Deseamos crear una visualización que muestre la facturación de cada categoría, donde la facturación se calcula multiplicando el precio unitario por la cantidad y sumando el costo de envío.\n",
    "\n",
    "Utiliza las bibliotecas de visualización de datos de Python para crear esta visualización.\n"
   ]
  },
  {
   "cell_type": "code",
   "execution_count": null,
   "metadata": {
    "id": "qOkMMd9E-Izm"
   },
   "outputs": [],
   "source": []
  },
  {
   "cell_type": "code",
   "execution_count": null,
   "metadata": {
    "id": "xSOBv0PY-IxQ"
   },
   "outputs": [],
   "source": []
  },
  {
   "cell_type": "markdown",
   "metadata": {
    "id": "JtsP9QD1QrpC"
   },
   "source": [
    "<font color=\"7b71ff\" size=4> Comentarios: </font>\n",
    "\n",
    "---\n",
    "\n",
    "Aquí especificamos el tipo de gráfico, guiando a ChatGPT en la creación de nuestro visual. Podemos notar que en un gráfico de barras el enfoque está más centrado en las categorías, además de ser una forma más fluida de leer textos que podrían ser demasiado extensos para un gráfico de columnas.\n"
   ]
  },
  {
   "cell_type": "markdown",
   "metadata": {
    "id": "J_r_YqGlQ3RN"
   },
   "source": [
    "### **3a Pregunta:** ¿Cómo fueron las ventas a lo largo de los meses en 2023?\n"
   ]
  },
  {
   "cell_type": "markdown",
   "metadata": {
    "id": "PaRBTlLgRMot"
   },
   "source": [
    "> #### <strong><font color=\"7b71ff\" size=6>Prompt:</font></strong>\n",
    "\n",
    "Tenemos un DataFrame llamado \"df\" y queremos construir un gráfico de líneas que muestre las ventas totales mensuales de Zoop.\n",
    "\n",
    "En \"df\", tenemos las siguientes columnas:\n",
    "* fecha: con las fechas de las compras en formato datetime (`aaaa-mm-dd`)\n",
    "* facturación: calculada como el producto del precio unitario y la cantidad, sumado al costo de envío de cada venta.\n",
    "\n",
    "Deseamos crear una visualización que muestre las ventas por mes. Primero, agrupa los datos por mes y luego crea una nueva columna llamada \"mes\" que contenga el nombre de cada mes, traduciendo los meses del índice mediante el siguiente diccionario. Utiliza la columna \"fecha\" para agrupar los datos y construir el gráfico. La columna \"mes\" solo debe usarse para cambiar las etiquetas del eje x.\n",
    "\n",
    "```\n",
    "meses = {\n",
    "    'January': 'Ene',\n",
    "    'February': 'Feb',\n",
    "    'March': 'Mar',\n",
    "    'April': 'Abr',\n",
    "    'May': 'May',\n",
    "    'June': 'Jun',\n",
    "    'July': 'Jul',\n",
    "    'August': 'Ago',\n",
    "    'September': 'Sep',\n",
    "    'October': 'Oct',\n",
    "    'November': 'Nov',\n",
    "    'December': 'Dic'\n",
    "}\n",
    "```\n",
    "\n",
    "\n",
    "Utiliza las bibliotecas de visualización de datos de Python para crear esta visualización.\n"
   ]
  },
  {
   "cell_type": "code",
   "execution_count": null,
   "metadata": {
    "id": "oIHvCV0--HCy"
   },
   "outputs": [],
   "source": []
  },
  {
   "cell_type": "code",
   "execution_count": null,
   "metadata": {
    "id": "vu5IDFOr-G5L"
   },
   "outputs": [],
   "source": []
  },
  {
   "cell_type": "markdown",
   "metadata": {
    "id": "_TI2LDquTpz_"
   },
   "source": [
    "<font color=\"7b71ff\" size=4> Comentarios: </font>\n",
    "\n",
    "---\n",
    "\n",
    "Cuando tenemos una cantidad mayor de períodos en nuestros datos, vale la pena recurrir a gráficos de líneas, que son ideales para series temporales. Dado que nuestros datos son mensuales, utilizar un gráfico de columnas, por ejemplo, reduciría la percepción de la secuencia de los datos. Las líneas ofrecen una mayor sensación de continuidad.\n",
    "\n",
    "Siéntete libre de formular algunas hipótesis sobre los momentos de alta y baja en las compras.\n"
   ]
  },
  {
   "cell_type": "markdown",
   "metadata": {
    "id": "jjxAkyE4T1PY"
   },
   "source": [
    "##**2.3 - Componiendo datos dinámicos**"
   ]
  },
  {
   "cell_type": "markdown",
   "metadata": {
    "id": "Ge60lSmKUM-T"
   },
   "source": [
    "\n",
    "Construimos algunos visuales interesantes para comparar los datos, mostrando las facturaciones de Zoop. Ahora, pasemos a una nueva categoría de visuales: composición.\n",
    "\n",
    "Vamos a hacer una composición dinámica de los datos. Para ello, añadiremos más variables al análisis, incorporando 3 variables diferentes, siendo una de ellas categórica."
   ]
  },
  {
   "cell_type": "markdown",
   "metadata": {
    "id": "OkXV3JTaVwQQ"
   },
   "source": [
    "###**4a Pregunta:** ¿Cómo está dividida la venta por trimestre por método de pago? ¿Existe algún período en el que algún tipo de pago se destaque?\n"
   ]
  },
  {
   "cell_type": "markdown",
   "metadata": {
    "id": "JblkLnxXWEO-"
   },
   "source": [
    "> #### <strong><font color=\"7b71ff\" size=6>Prompt:</font></strong>\n",
    "\n",
    "Tenemos un DataFrame llamado \"df\" y queremos construir un gráfico de barras apiladas que muestre las ventas por trimestre en relación con el método de pago de Zoop.\n",
    "\n",
    "En \"df\", tenemos las siguientes columnas:\n",
    "* fecha: con las fechas de las compras en formato datetime (`aaaa-mm-dd`)\n",
    "* facturacion: con los valores de las ventas\n",
    "* metodo_pago: con el método de pago elegido en la compra\n",
    "\n",
    "Deseamos crear una visualización que muestre las ventas por trimestre, agrupando los métodos de pago de cada trimestre correspondientes a cada compra.\n",
    "\n",
    "Utiliza las bibliotecas de visualización de datos de Python para crear esta visualización.\n"
   ]
  },
  {
   "cell_type": "code",
   "execution_count": null,
   "metadata": {
    "id": "guwcgCqk-EQG"
   },
   "outputs": [],
   "source": []
  },
  {
   "cell_type": "code",
   "execution_count": null,
   "metadata": {
    "id": "90Opj9e4-FPX"
   },
   "outputs": [],
   "source": []
  },
  {
   "cell_type": "markdown",
   "metadata": {
    "id": "qSypZ_2bmp_j"
   },
   "source": [
    "<font color=\"7b71ff\" size=4> Comentarios: </font>\n",
    "\n",
    "---\n",
    "\n",
    "El gráfico de columnas apiladas añade a la comparación entre períodos o categorías, la comparación también entre los datos de cada período/categoría. Es como si pusiéramos una \"lupa\" en cada columna y visualizáramos la composición de cada una de acuerdo con la variable deseada (aquí, las formas de pago).\n",
    "\n",
    "Siéntete libre de formular algunas hipótesis sobre las ventas por trimestre combinadas con el tipo de pago y qué ideas podemos obtener de esta base de datos.\n"
   ]
  },
  {
   "cell_type": "markdown",
   "metadata": {
    "id": "F4d02EQgm57o"
   },
   "source": [
    "## **3.1 - Componiendo datos estáticos**\n",
    "\n",
    "---"
   ]
  },
  {
   "cell_type": "markdown",
   "metadata": {
    "id": "AlNZXGe4nB9V"
   },
   "source": [
    "Inicialmente, presentaremos un ejemplo de cómo podemos utilizar la comparación de datos estáticos, es decir, un recorte en el tiempo o de las variables que poseemos."
   ]
  },
  {
   "cell_type": "markdown",
   "metadata": {
    "id": "K1Zd-qB0nG4y"
   },
   "source": [
    "### **5ª Pregunta:** ¿Cuál es la proporción de la clientela que participa en nuestro programa de cashback?"
   ]
  },
  {
   "cell_type": "markdown",
   "metadata": {
    "id": "BMMcUocynuHZ"
   },
   "source": [
    "> #### <strong><font color=\"7b71ff\" size=6>Prompt:</font></strong>\n",
    "\n",
    "Tenemos un DataFrame llamado \"df\" y queremos construir un gráfico que muestre la proporción de usuarios(as) que están participando en el programa de cashback de Zoop.\n",
    "\n",
    "En \"df\", tenemos la columna \"cashback\" que contiene estos datos.\n",
    "\n",
    "Utiliza las bibliotecas de visualización de datos de Python para crear esta visualización.\n"
   ]
  },
  {
   "cell_type": "code",
   "execution_count": null,
   "metadata": {
    "id": "0GkWNql096-W"
   },
   "outputs": [],
   "source": []
  },
  {
   "cell_type": "code",
   "execution_count": null,
   "metadata": {
    "id": "zgGt0j7B96yz"
   },
   "outputs": [],
   "source": []
  },
  {
   "cell_type": "markdown",
   "metadata": {
    "id": "PobyxvuVoJcs"
   },
   "source": [
    "> #### <strong><font color=\"7b71ff\" size =6>Prompt:</font></strong>\n",
    "\n",
    "¿Podrías utilizar el color rojo y mantener el azul y cambiar el gráfico anterior a uno tipo rosquilla?\n",
    "\n",
    "Utiliza las bibliotecas de visualización de datos de Python para crear esta visualización.\n"
   ]
  },
  {
   "cell_type": "code",
   "execution_count": null,
   "metadata": {
    "id": "IFLDq1fR94iG"
   },
   "outputs": [],
   "source": []
  },
  {
   "cell_type": "code",
   "execution_count": null,
   "metadata": {
    "id": "W2RPn0R994dT"
   },
   "outputs": [],
   "source": []
  },
  {
   "cell_type": "markdown",
   "metadata": {
    "id": "8l2x5b6hp599"
   },
   "source": [
    "<font color=\"7b71ff\" size=4> Comentarios: </font>\n",
    "\n",
    "---\n",
    "\n",
    "¡Mira eso! Una vez más, la IA nos presentó una buena idea de qué gráfico aplicar para este caso, pero ¿notaste que \"ella\" no tiene idea de los datos que poseemos?\n",
    "\n",
    "Debemos estar atentos a esto, ya que solo le proporcionamos los nombres de las columnas y los datos que había allí. La IA no puede saber si un valor es positivo o negativo, por ejemplo. Por eso, el \"no\" estaba en azul y el \"sí\" en verde. En el siguiente prompt, le indicamos que sustituyera el color verde por el rojo (sin mencionar el valor real de los datos) y pedimos una modificación en el visual.\n",
    "\n",
    "¿Qué tal si experimentas hacer otros pedidos y ves cómo se comporta ChatGPT?\n",
    "\n",
    "Hablando del gráfico, los gráficos de sectores son ideales para pocas categorías de datos, preferiblemente datos dicotómicos (2 categorías, como sí y no, gato y perro...). Representan la proporción de los datos de manera estática."
   ]
  },
  {
   "cell_type": "markdown",
   "metadata": {
    "id": "SNbkQrsFqFNk"
   },
   "source": [
    "## **3.2 - Distribuyendo Datos**\n",
    "\n",
    "---\n"
   ]
  },
  {
   "cell_type": "markdown",
   "metadata": {
    "id": "Ug_Y1GAoqTzO"
   },
   "source": [
    "Con la ayuda de la IA, generaremos más gráficos que serán importantes para la construcción del storytelling del informe de Zoop, según lo solicitado. Ahora, partiendo de la distribución de datos, vamos a analizar el perfil de los clientes y cómo evalúan sus compras en Zoop."
   ]
  },
  {
   "cell_type": "markdown",
   "metadata": {
    "id": "U_N9EmtCqX2h"
   },
   "source": [
    "### **6ª Pregunta:** ¿Cómo están distribuidas las calificaciones de la compra? ¿Tenemos buenos números en general?  \n"
   ]
  },
  {
   "cell_type": "markdown",
   "metadata": {
    "id": "EF6gJ5-UqxPO"
   },
   "source": [
    "Vamos a pedirle a ChatGPT que nos ayude a construir este visual. Veamos si esta IA puede representar estos datos con un visual adecuado."
   ]
  },
  {
   "cell_type": "markdown",
   "metadata": {
    "id": "zx_gd4sDrJif"
   },
   "source": [
    "> #### <strong><font color=\"7b71ff\" size=6>Prompt:</font></strong>\n",
    "\n",
    "Tenemos un DataFrame llamado \"df\" y queremos construir un gráfico que muestre la distribución de las evaluaciones del público en relación con las compras realizadas en la tienda online.\n",
    "\n",
    "En \"df\", tenemos la columna \"nota\" con las calificaciones otorgadas por cada usuario en relación con la compra que realizaron, que varían de 0 a 10 en números enteros.\n",
    "\n",
    "Deseamos crear una visualización que muestre la distribución de estos datos.\n",
    "\n",
    "Utiliza las bibliotecas de visualización de datos de Python para crear este gráfico.\n"
   ]
  },
  {
   "cell_type": "code",
   "execution_count": null,
   "metadata": {
    "id": "2T2Oli-291qg"
   },
   "outputs": [],
   "source": []
  },
  {
   "cell_type": "code",
   "execution_count": null,
   "metadata": {
    "id": "vOEZcqg592nl"
   },
   "outputs": [],
   "source": []
  },
  {
   "cell_type": "markdown",
   "metadata": {
    "id": "HPkcf36FruTa"
   },
   "source": [
    "<font color=\"7b71ff\" size=4> Comentarios: </font>\n",
    "\n",
    "---\n",
    "\n",
    "Una vez más, no necesitamos especificar directamente el tipo de gráfico, ya que al mencionar la distribución de valores numéricos de una simple columna, ChatGPT logró interpretar y proporcionar el código para un histograma de columnas. Este gráfico es ideal para presentar la distribución de una muestra de datos o población. Cada columna aquí representa la frecuencia de repetición de un valor.\n",
    "\n",
    "¿Te gustaría experimentar haciendo lo mismo solo con las edades?\n"
   ]
  },
  {
   "cell_type": "markdown",
   "metadata": {
    "id": "4rCwNOpor_3f"
   },
   "source": [
    "### **7ª Pregunta:** ¿Cómo está distribuida nuestra audiencia por edad y sexo biológico? ¿Existe algún grupo que sobresalga?\n"
   ]
  },
  {
   "cell_type": "markdown",
   "metadata": {
    "id": "KcN5kO0IsL3j"
   },
   "source": [
    "> #### <strong><font color=\"7b71ff\" size=6>Prompt:</font></strong>\n",
    "\n",
    "Tenemos un DataFrame llamado \"df\" y queremos construir un gráfico que muestre la distribución de nuestra audiencia por edad y sexo biológico.\n",
    "\n",
    "En \"df\", tenemos las columnas:\n",
    "* edad: edad de la persona que realizó la compra\n",
    "* sexo_biologico: sexo biológico de la persona que realizó la compra, con datos categóricos\n",
    "\n",
    "Deseamos crear una visualización que muestre la distribución de estos datos.\n",
    "\n",
    "Utiliza las bibliotecas de visualización de datos de Python para crear esta visualización.\n"
   ]
  },
  {
   "cell_type": "code",
   "execution_count": null,
   "metadata": {
    "id": "VG2IJpls9y8e"
   },
   "outputs": [],
   "source": []
  },
  {
   "cell_type": "code",
   "execution_count": null,
   "metadata": {
    "id": "VQJ0ru5z9zce"
   },
   "outputs": [],
   "source": []
  },
  {
   "cell_type": "markdown",
   "metadata": {
    "id": "E4paklFNtAcj"
   },
   "source": [
    "<font color=\"7b71ff\" size=4> Comentarios: </font>\n",
    "\n",
    "---\n",
    "El gráfico generado es poco práctico, ya que compila los datos del sexo biológico 'Masculino' y 'Femenino' en el gráfico de violín. Necesitamos darle una instrucción adicional a GPT para elegir un visual más adecuado.\n"
   ]
  },
  {
   "cell_type": "markdown",
   "metadata": {
    "id": "aLtugLAptYov"
   },
   "source": [
    "> #### <strong><font color=\"7b71ff\" size=6>Prompt:</font></strong>\n",
    "\n",
    "Creo que podemos mejorar este gráfico. ¿Qué te parece cambiar a un boxplot?\n"
   ]
  },
  {
   "cell_type": "code",
   "execution_count": null,
   "metadata": {
    "id": "Jqqz4TlQ9v6q"
   },
   "outputs": [],
   "source": []
  },
  {
   "cell_type": "code",
   "execution_count": null,
   "metadata": {
    "id": "PAqCODSk9xBY"
   },
   "outputs": [],
   "source": []
  },
  {
   "cell_type": "markdown",
   "metadata": {
    "id": "9zx_z6_atzI1"
   },
   "source": [
    "<font color=\"7b71ff\" size=4> Comentarios: </font>\n",
    "\n",
    "---\n",
    "\n",
    "Esta vez fue necesario guiar a la IA para generar una visualización mejor para nuestros análisis.\n",
    "\n",
    "El gráfico representado es un boxplot (diagrama de caja) que es ideal para representar un conjunto de datos de acuerdo con 5 medidas de interés: valor máximo, mínimo, 1º cuartil (donde están situados el 25% de los datos), 2º cuartil o mediana (donde están situados el 50% de los datos) y 3º cuartil (donde están situados el 75% de los datos).\n",
    "\n",
    "¿Recuerdas el `describe()`? Este gráfico presenta en un solo elemento gran parte de los datos que la función muestra en tabla.\n",
    "\n",
    "Concluimos la 1ª versión de los 7 visuales que utilizaremos en nuestro proyecto. Ahora, pasaremos a la aplicación de las técnicas de storytelling para mejorar los visuales y adaptarlos a la identidad visual de Zoop antes de la exportación.\n"
   ]
  },
  {
   "cell_type": "markdown",
   "metadata": {
    "id": "iY_2Eyb_t5eJ"
   },
   "source": [
    "## **4.1 - Definiendo los colores del proyecto**\n",
    "\n",
    "---\n"
   ]
  },
  {
   "cell_type": "markdown",
   "metadata": {
    "id": "O2A2lR9Rudzm"
   },
   "source": [
    "Ahora, vamos a explorar la importancia de los colores en la visualización de datos, discutir cómo las personas perciben e interpretan la información visual, y abordar la diferencia entre la capacidad de la inteligencia artificial y la visión humana en lo que respecta a la elección de colores y accesibilidad.\n",
    "\n"
   ]
  },
  {
   "cell_type": "markdown",
   "metadata": {
    "id": "Pk3CRrLIujxQ"
   },
   "source": [
    "### Paleta de colores de Zoop:"
   ]
  },
  {
   "cell_type": "markdown",
   "metadata": {
    "id": "46BuOvoyvZDR"
   },
   "source": [
    "<img src=\"https://raw.githubusercontent.com/alura-cursos/ia-datascience-dataviz/main/imagens/paleta_cores/zoop_paleta_cores.png\" alt=\"inserir alt\" width=480>\n",
    "\n",
    "&nbsp;\n",
    "\n",
    "#### Paleta del proyecto\n",
    "\n",
    "|Rojo|||\n",
    "|------|------|------|\n",
    "| Rojo_1 |Rojo_2 |Rojo_3 |\n",
    "|#e23155 | #cc2c4e| #b32742 |\n",
    "| ![adicionar desc](https://raw.githubusercontent.com/alura-cursos/ia-datascience-dataviz/main/imagens/paleta_cores/VERMELHO_1.png)  |![adicionar desc](https://raw.githubusercontent.com/alura-cursos/ia-datascience-dataviz/main/imagens/paleta_cores/VERMELHO_2.png) |![adicionar desc](https://raw.githubusercontent.com/alura-cursos/ia-datascience-dataviz/main/imagens/paleta_cores/VERMELHO_3.png) |\n",
    "\n",
    "&nbsp;\n",
    "\n",
    "|Azul|||\n",
    "|------|------|------|\n",
    "| AZUL_1 |AZUL_2 |AZUL_3 |\n",
    "|#203f75 | #1c3867| #19325b |\n",
    "| ![adicionar desc](https://raw.githubusercontent.com/alura-cursos/ia-datascience-dataviz/main/imagens/paleta_cores/AZUL_1.png)  |![adicionar desc](https://raw.githubusercontent.com/alura-cursos/ia-datascience-dataviz/main/imagens/paleta_cores/AZUL_2.png) |![adicionar desc](https://raw.githubusercontent.com/alura-cursos/ia-datascience-dataviz/main/imagens/paleta_cores/AZUL_3.png) |\n",
    "\n",
    "&nbsp;\n",
    "\n",
    "|Gris||||||\n",
    "|------|------|------|------|------|------|\n",
    "|BLANCO| GRIS_1 |GRIS_2 |GRIS_3 |GRIS_4 |GRIS_5 |\n",
    "|#ffffff | #ebebeb | #d9d9d9| #cccccc | #555655| #231f20 |\n",
    "| ![adicionar desc](https://raw.githubusercontent.com/alura-cursos/ia-datascience-dataviz/main/imagens/paleta_cores/BRANCO.png)  |![adicionar desc](https://raw.githubusercontent.com/alura-cursos/ia-datascience-dataviz/main/imagens/paleta_cores/CINZA_1.png) |![adicionar desc](https://raw.githubusercontent.com/alura-cursos/ia-datascience-dataviz/main/imagens/paleta_cores/CINZA_2.png) |![adicionar desc](https://raw.githubusercontent.com/alura-cursos/ia-datascience-dataviz/main/imagens/paleta_cores/CINZA_3.png) |![adicionar desc](https://raw.githubusercontent.com/alura-cursos/ia-datascience-dataviz/main/imagens/paleta_cores/CINZA_4.png)|![adicionar desc](https://raw.githubusercontent.com/alura-cursos/ia-datascience-dataviz/main/imagens/paleta_cores/CINZA_5.png)|\n",
    "\n",
    "&nbsp;\n",
    "\n",
    "|Aqua|||\n",
    "|------|------|------|\n",
    "| AQUA_1 |AQUA_2 |AQUA_3 |\n",
    "|#addcd4 | #9fccc5| #96bfb9 |\n",
    "| ![adicionar desc](https://raw.githubusercontent.com/alura-cursos/ia-datascience-dataviz/main/imagens/paleta_cores/AQUA_1.png)  |![adicionar desc](https://raw.githubusercontent.com/alura-cursos/ia-datascience-dataviz/main/imagens/paleta_cores/AQUA_2.png) |![adicionar desc](https://raw.githubusercontent.com/alura-cursos/ia-datascience-dataviz/main/imagens/paleta_cores/AQUA_3.png) |\n",
    "\n",
    "&nbsp;\n"
   ]
  },
  {
   "cell_type": "code",
   "execution_count": null,
   "metadata": {
    "id": "Me629U_iwEky"
   },
   "outputs": [],
   "source": [
    "# Adicionamos los colores al proyecto\n",
    "ROJO_1,\tROJO_2,\tROJO_3 = \"#e23155\",\t\"#cc2c4e\", \"#b32742\"\n",
    "AZUL_1,\tAZUL_2,\tAZUL_3 = \"#203f75\",\t\"#1c3867\", \"#19325b\"\n",
    "BLANCO,GRIS_1, GRIS_2, GRIS_3, GRIS_4,\tGRIS_5 = \"#ffffff\", \"#ebebeb\",\t\"#d9d9d9\", \"#cccccc\", \"#555655\", \"#231f20\"\n",
    "AQUA_1,\tAQUA_2,\tAQUA_3 = \"#addcd4\",\t\"#9fccc5\", \"#96bfb9\""
   ]
  },
  {
   "cell_type": "markdown",
   "metadata": {
    "id": "FKvxEoocwe0h"
   },
   "source": [
    "<font size=5> ***¿Por qué definimos nosotros mismos los colores del proyecto?*** </font>\n"
   ]
  },
  {
   "cell_type": "markdown",
   "metadata": {
    "id": "Ow7ELrgow1h8"
   },
   "source": [
    "1. **Percepción humana de los colores:**\n",
    "\n",
    "Nuestro cerebro interpreta los colores de manera única, asociando emociones y significados a cada tonalidad. Es importante, al elegir los colores para representar datos, considerar la percepción humana para asegurar que la información se transmita de manera clara y eficaz. Además de seguir la identidad visual de Zoop, es decir, dar esa sensación de que el visual es de Zoop.\n",
    "\n",
    "2. **Accesibilidad:**\n",
    "\n",
    "Ciertas combinaciones de colores pueden ser difíciles de percibir para personas con deficiencias visuales. Nuestra responsabilidad como desarrolladores es garantizar que nuestras visualizaciones sean inclusivas. Aquí seguiremos algunas directrices y recomendaciones para crear gráficos accesibles.\n",
    "\n",
    "3. **IA vs. elección de colores:**\n",
    "\n",
    "Mientras que la IA puede realizar tareas complejas, como análisis de datos y reconocimiento de patrones, aún no posee el discernimiento humano cuando se trata de elegir colores significativos y garantizar la accesibilidad. Aquí es donde entra nuestra intervención creativa y consideración humana.\n",
    "\n",
    "4. **Experiencia visual:**\n",
    "\n",
    "¿Las personas pueden entender la información transmitida por los gráficos? ¿Existe algún \"conflicto\" entre los colores que perjudica la claridad del mensaje? Vamos a explorar técnicas para mejorar la experiencia visual, como el contraste adecuado, la elección cuidadosa de los colores de la paleta y el destaque de elementos clave.\n",
    "\n",
    "¿Vamos ahora a sumergirnos en la práctica e incorporar estos conceptos a nuestro proyecto?\n"
   ]
  },
  {
   "cell_type": "markdown",
   "metadata": {
    "id": "uMM8DVcByPe3"
   },
   "source": [
    "## **4.2 - Añadiendo etiquetas y rótulos**"
   ]
  },
  {
   "cell_type": "markdown",
   "metadata": {
    "id": "eUirAlyP66lC"
   },
   "source": [
    "Ya hemos creado anteriormente los 7 visuales y definido los colores del proyecto. Ahora, vamos a elegir solo uno de los visuales para comprender cómo podemos utilizar la IA para agregar los colores ideales, las etiquetas de los datos, títulos y etiquetas de los ejes.\n",
    "\n",
    "Entonces, tomaremos el código de ese primer gráfico (Métodos de pago utilizados) y exploraremos estos cambios a través de la utilización de la IA."
   ]
  },
  {
   "cell_type": "code",
   "execution_count": null,
   "metadata": {
    "id": "FrvfCM5c9irn"
   },
   "outputs": [],
   "source": []
  },
  {
   "cell_type": "code",
   "execution_count": null,
   "metadata": {
    "id": "hXV8LKx-9kNb"
   },
   "outputs": [],
   "source": []
  },
  {
   "cell_type": "markdown",
   "metadata": {
    "id": "Y7M7NxMO-zpp"
   },
   "source": [
    "<strong><font color=\"7b71ff\" size =6>Prompt:</font></strong>\n",
    "\n",
    "Ahora llegó el momento de refinar nuestras visualizaciones. Comencemos con el primer gráfico que hicimos, el de los métodos de pago.\n",
    "\n",
    "Nuestro gráfico necesita seguir la identidad visual de Zoop, con el fondo de la figura y del gráfico en el color GRIS_1, las columnas en el color ROJO_1 y el tamaño de la figura debe ser de (10, 6).\n",
    "\n",
    "El título de la figura es \"Métodos de pago más utilizados en 2023\" con tamaño 18 y su color GRIS_5.\n",
    "\n",
    "Las etiquetas del eje y (yticks) deben ser suprimidas así como la etiqueta del eje y (ylabel) y las etiquetas, y la etiqueta del eje x (xticks y xlabel) deben tener tamaño 12 con el color AZUL_1. Los bordes superior, derecho e izquierdo del gráfico deben ser suprimidos.\n",
    "\n",
    "Además, es necesario mostrar el total de cada método de pago encima de cada columna, con el texto también en el color AZUL_1 y tamaño 12.\n",
    "\n",
    "Utiliza las bibliotecas de visualización de datos de Python para crear esta visualización. Recuerda que las variables de los colores que estamos utilizando tienen valores de colores ya en hexadecimal."
   ]
  },
  {
   "cell_type": "code",
   "execution_count": null,
   "metadata": {
    "id": "sFcS3Yq-9gca"
   },
   "outputs": [],
   "source": []
  },
  {
   "cell_type": "code",
   "execution_count": null,
   "metadata": {
    "id": "XxX_MQCR9hub"
   },
   "outputs": [],
   "source": []
  },
  {
   "cell_type": "markdown",
   "metadata": {
    "id": "NDFhZh_SBDlK"
   },
   "source": [
    "<font color=\"7b71ff\" size=4> Comentarios: </font>\n",
    "\n",
    "---\n",
    "¡Vaya! Parece otro gráfico, ¿verdad?\n",
    "\n",
    "Eliminamos muchos elementos distractores y añadimos solo la información que nos interesaba. Además, cambiamos el diseño de un estado genérico a un formato que se ajusta a la identidad de Zoop, dejando nuestro gráfico listo para ser utilizado, por ejemplo, en el informe de ventas.\n",
    "\n",
    "Más adelante aplicaremos estas acciones a los otros visuales. Nuestro enfoque aquí es entender las técnicas de storytelling y cómo combinarlas con la IA puede ser bastante útil.\n"
   ]
  },
  {
   "cell_type": "markdown",
   "metadata": {
    "id": "wy6Gl_00BN8y"
   },
   "source": [
    "## **4.3 - Añadiendo textos**\n",
    "\n",
    "---\n"
   ]
  },
  {
   "cell_type": "markdown",
   "metadata": {
    "id": "Z-sK2ZcFBfB9"
   },
   "source": [
    "Ya hemos refinado uno de los gráficos en la etapa anterior. Ahora, vamos a traer ese gráfico, añadiendo un elemento más que puede ser importante para los análisis: textos informativos. Utilizaremos la IA nuevamente para este proceso."
   ]
  },
  {
   "cell_type": "markdown",
   "metadata": {
    "id": "rA4Nrw1cBi88"
   },
   "source": [
    "> #### <strong><font color=\"7b71ff\" size =6>Prompt:</font></strong>\n",
    "\n",
    "¡El gráfico quedó muy bien!\n",
    "\n",
    "Ahora quiero añadir un texto dentro del área del gráfico, ¿vamos allá?\n",
    "\n",
    "Para ello, suma los valores de las dos primeras columnas, divide por la suma de todas las columnas y convierte a formato de porcentaje, almacenando en la variable \"porcentaje\".\n",
    "\n",
    "Ahora, en la posición x=1.5 y y=2500, añade el siguiente texto con tamaño 10 y color AZUL_3: f\"$\\\\bf{porcentaje:.2f}$% de los clientes utilizan Tarjeta de Crédito o Transferencia \\npara el pago. Sería interesante considerar asociaciones con \\nbancos para la creación de un Zoop Pay con el fin de fidelizar \\na nuestra clientela.\"."
   ]
  },
  {
   "cell_type": "code",
   "execution_count": null,
   "metadata": {
    "id": "Yn00W8j79Zqa"
   },
   "outputs": [],
   "source": []
  },
  {
   "cell_type": "code",
   "execution_count": null,
   "metadata": {
    "id": "JyOzs6s59cjw"
   },
   "outputs": [],
   "source": []
  },
  {
   "cell_type": "markdown",
   "metadata": {
    "id": "i-gjTFXiCa6l"
   },
   "source": [
    "<font color=\"7b71ff\" size=4> Comentarios: </font>\n",
    "\n",
    "---\n",
    "\n",
    "Aprovechamos el área útil para presentar una *idea* que tuvimos al describir los datos de los métodos de pago. Esto aumenta significativamente la relevancia de los datos representados y proporciona más información a quien lo lee.\n"
   ]
  },
  {
   "cell_type": "markdown",
   "metadata": {
    "id": "iDkaLxz4ChsD"
   },
   "source": [
    "## **4.4 - Agregar elementos visuales**\n",
    "\n",
    "---\n"
   ]
  },
  {
   "cell_type": "markdown",
   "metadata": {
    "id": "d0u1EJ6KC1b1"
   },
   "source": [
    "¿Qué tal el uso de textos informativos, verdad? ¿Y si ahora añadimos otros elementos visuales a uno de nuestros gráficos?\n",
    "\n",
    "Vamos a elegir ahora el gráfico de líneas (Ventas totales mensuales de Zoop) y aplicar una técnica más a él mediante el uso de la IA.\n"
   ]
  },
  {
   "cell_type": "code",
   "execution_count": null,
   "metadata": {
    "id": "XsIYrUqW9UgH"
   },
   "outputs": [],
   "source": []
  },
  {
   "cell_type": "code",
   "execution_count": null,
   "metadata": {
    "id": "Lye9rKE-9V8S"
   },
   "outputs": [],
   "source": []
  },
  {
   "cell_type": "markdown",
   "metadata": {
    "id": "OW7diglQDdZS"
   },
   "source": [
    "> #### <strong><font color=\"7b71ff\" size =6>Prompt:</font></strong>\n",
    "\n",
    "¿Vamos a explorar otro de los gráficos que hicimos? Ahora vamos a utilizar el de Ventas totales mensuales de Zoop. La variable que pasa los valores mensuales es:\n",
    "```\n",
    "ventas_mensuales = df.groupby(df['fecha'].dt.to_period('M'))['facturacion'].sum().reset_index()\n",
    "```\n",
    "Pero debes sustituirla por:\n",
    "```\n",
    "df['mes'] = df['fecha'].dt.strftime('%B')\n",
    "ventas_mensuales = df.groupby('mes')['facturacion'].sum().reindex(meses.keys())\n",
    "```\n",
    "En el que `df['fecha']` corresponde a las fechas en formato datetime y `df['facturacion']` a los valores de las ventas.\n",
    "\n",
    "Y lo que generó el gráfico original fue:\n",
    "\n",
    "```\n",
    "sns.lineplot(x='mes', y='facturacion', data=ventas_mensuales, marker='o', sort=False)\n",
    "```\n",
    "Pero debes utilizar únicamente la biblioteca matplotlib con la creación del gráfico siguiendo este ejemplo:\n",
    "\n",
    "```\n",
    "plt.plot(ventas_mensuales.index, ventas_mensuales, marker='o', color='#1890FF', linewidth=2)\n",
    "```\n",
    "\n",
    "Nuestro gráfico debe seguir la identidad visual de Zoop, con el fondo de la figura y del gráfico en color GRIS_1, la línea en color AZUL_1 y el tamaño de la figura debe ser de (12, 6).\n",
    "\n",
    "El título de la figura es \"Ventas totales mensuales en 2023\" con tamaño 18 y su color GRIS_5.\n",
    "\n",
    "Las etiquetas del eje y (yticks) deben estar en el formato \"MXN$ valor M\" con dos decimales, tamaño 12 y color AZUL_1.\n",
    "\n",
    "Las etiquetas del eje X (xticks) deben tener tamaño 12 con color AZUL_1. Los labels de los ejes x e y (xlabel e ylabel) deben ser suprimidos. Los bordes del gráfico en la parte superior y el lado derecho deben ser suprimidos.\n",
    "\n",
    "Utiliza las bibliotecas de visualización de datos de Python para crear esta visualización. Recuerda que las variables de colores que estamos utilizando tienen valores de colores ya en hexadecimal.\n"
   ]
  },
  {
   "cell_type": "code",
   "execution_count": null,
   "metadata": {
    "id": "qCsO8Oh_9SkC"
   },
   "outputs": [],
   "source": []
  },
  {
   "cell_type": "code",
   "execution_count": null,
   "metadata": {
    "id": "JNAntiF09W1L"
   },
   "outputs": [],
   "source": []
  },
  {
   "cell_type": "markdown",
   "metadata": {
    "id": "2AwdD-waFPEX"
   },
   "source": [
    "> #### <strong><font color=\"7b71ff\" size =6>Prompt:</font></strong>\n",
    "\n",
    "¡Genial! Ahora que nuestro gráfico ya tiene la identidad visual, vamos a añadir algunos elementos visuales adicionales.\n",
    "\n",
    "Dibuja 4 círculos de radio 200, transparentes con el borde en color ROJO_1 y con el centro en las coordenadas del 5º, 8º, 11º y 12º puntos, respectivamente. A la izquierda de cada círculo enumera del 1 al 4.\n"
   ]
  },
  {
   "cell_type": "code",
   "execution_count": null,
   "metadata": {
    "id": "o5_JOMJd9Nhy"
   },
   "outputs": [],
   "source": []
  },
  {
   "cell_type": "code",
   "execution_count": null,
   "metadata": {
    "id": "O7GqzHlg9XWb"
   },
   "outputs": [],
   "source": []
  },
  {
   "cell_type": "markdown",
   "metadata": {
    "id": "IjV7mgbSF7HL"
   },
   "source": [
    "<font color=\"7b71ff\" size=4> Comentarios: </font>\n",
    "\n",
    "---\n",
    "\n",
    "Hemos añadido 4 círculos que representan los puntos con mayor volumen de ventas de Zoop en 2023. Podemos plantear algunas hipótesis:\n",
    "\n",
    "1. En mayo, tenemos una de las fechas más relevantes en ventas: el Día de las Madres, lo que puede justificar el aumento en las ventas de Zoop.\n",
    "2. En agosto, hay una situación que pueden explicar el crecimiento: la vuelta a clases en el segundo semestre en algunos estados de Mexico.\n",
    "3. En noviembre, destaca la Black Friday, uno de los principales períodos de alta en las ventas, considerado de gran relevancia para el comercio minorista.\n",
    "4. En diciembre, tenemos  las festividades de Año Nuevo, consideradas el período de mayores ventas no solo para Zoop, sino para el comercio minorista en general.\n",
    "\n",
    "La recomendación es investigar más a fondo los datos y llegar a tus propias conclusiones.\n"
   ]
  },
  {
   "cell_type": "markdown",
   "metadata": {
    "id": "ynaOuTScHfzi"
   },
   "source": [
    "Antes de ajustar los últimos 5 visuales de nuestro proyecto, vamos a hacer una pequeña modificación en los 2 primeros, convirtiéndolos en funciones, lo que facilitará más adelante cuando realicemos la exportación\n"
   ]
  },
  {
   "cell_type": "markdown",
   "metadata": {
    "id": "NdXjUc-K6N0r"
   },
   "source": [
    "# **Clase 5 - Finalizando el proyecto**"
   ]
  },
  {
   "cell_type": "markdown",
   "metadata": {
    "id": "nPd_trF36h7_"
   },
   "source": [
    "Antes de ajustar los últimos 5 visuales de nuestro proyecto, haremos una pequeña modificación en los 2 primeros pasándolos a función, lo que facilitará más adelante cuando realicemos la exportación de los visuales.\n"
   ]
  },
  {
   "cell_type": "markdown",
   "metadata": {
    "id": "2RnTvZsv8Ejs"
   },
   "source": [
    "### **Gráfico 1 - Métodos de pago más utilizados en 2023:**"
   ]
  },
  {
   "cell_type": "code",
   "execution_count": null,
   "metadata": {
    "id": "SsgOQNU68_qO"
   },
   "outputs": [],
   "source": []
  },
  {
   "cell_type": "code",
   "execution_count": null,
   "metadata": {
    "id": "mqqKAc3q8_i0"
   },
   "outputs": [],
   "source": []
  },
  {
   "cell_type": "markdown",
   "metadata": {
    "id": "7__1mu6pA5iX"
   },
   "source": [
    "### **Gráfico 2 - Total de ventas mensuales en 2023:**"
   ]
  },
  {
   "cell_type": "code",
   "execution_count": null,
   "metadata": {
    "id": "RIHH6PyH89ir"
   },
   "outputs": [],
   "source": []
  },
  {
   "cell_type": "code",
   "execution_count": null,
   "metadata": {
    "id": "zP_x0_QF89Ul"
   },
   "outputs": [],
   "source": []
  },
  {
   "cell_type": "markdown",
   "metadata": {
    "id": "j4QB6Ph8XyPt"
   },
   "source": [
    "Ahora que guardamos los 2 primeros gráficos en función, vamos a modificar uno más, **Facturación por categoría de producto en 2023**, utilizando las técnicas de storytelling que ya hemos aprendido.\n"
   ]
  },
  {
   "cell_type": "markdown",
   "metadata": {
    "id": "cC-LvjjVYMXJ"
   },
   "source": [
    "### **Gráfico 3 - Facturación por categoría de producto en 2023:**\n"
   ]
  },
  {
   "cell_type": "markdown",
   "metadata": {
    "id": "4vux7UVbYXLz"
   },
   "source": [
    "Vamos a continuar con los gráficos generados a lo largo de las clases, partiendo ahora del gráfico de facturación por categoría de producto aplicando las técnicas de storytelling que aprendimos aquí en el curso mediante el uso de la IA.\n"
   ]
  },
  {
   "cell_type": "code",
   "execution_count": null,
   "metadata": {
    "id": "ygY4gS5K87Zr"
   },
   "outputs": [],
   "source": []
  },
  {
   "cell_type": "markdown",
   "metadata": {
    "id": "NQieRpg1h8zh"
   },
   "source": [
    "> #### <strong><font color=\"7b71ff\" size=6>Prompt:</font></strong>\n",
    "\n",
    "¿Vamos a proceder con otro gráfico? Ahora, vamos refinar el gráfico de facturación por categoría. Recuerda que este gráfico fue de barras horizontales.\n",
    "\n",
    "El script original del gráfico es el siguiente:\n",
    "\n",
    "```python\n",
    "\n",
    "# 1. Calcular la facturación para cada compra\n",
    "df['facturacion'] = (df['precio_unitario'] * df['cantidad']) + df['envio']\n",
    "\n",
    "# 2. Agrupar por categoría y sumar la facturación\n",
    "facturacion_categoria = df.groupby('categoria')['facturacion'].sum().reset_index()\n",
    "\n",
    "# 3. Ordenar los datos por facturación de mayor a menor\n",
    "facturacion_categoria = facturacion_categoria.sort_values(by='facturacion', ascending=False)\n",
    "\n",
    "# 4. Crear el gráfico de barras horizontales\n",
    "plt.figure(figsize=(10, 6))\n",
    "sns.barplot(x='facturacion', y='categoria', data=facturacion_categoria, palette='viridis',orient='h')\n",
    "\n",
    "# 5. Añadir etiquetas y título\n",
    "plt.title('Facturación por Categoría de Producto', fontsize=16)\n",
    "plt.xlabel('Facturación (en MXN$)', fontsize=12)\n",
    "plt.ylabel('Categoría', fontsize=12)\n",
    "\n",
    "# 6. Mostrar el gráfico\n",
    "plt.show()\n",
    "```\n",
    "Nuestro gráfico debe seguir la identidad visual de Zoop, con el fondo de la figura y del gráfico en el color GRIS_1, las barras en el color AQUA_1 y el tamaño de la figura debe ser de (10, 6).\n",
    "\n",
    "El título de la figura es \"Facturación por categoría de producto en 2023\" con tamaño 18 y su color GRIS_5.\n",
    "\n",
    "Las etiquetas del eje x (xticks) deben ser suprimidas al igual que los labels de los ejes x y y (xlabel y ylabel), y las etiquetas del eje y (yticks) deben tener tamaño 12 con el color AZUL_1. Todas las bordes del gráfico deben ser suprimidas.\n",
    "\n",
    "Además, es necesario mostrar el total de la facturación de cada categoría al lado derecho de cada barra, con el texto también en color AZUL_1 y tamaño 12.\n",
    "\n",
    "También vamos a agregar un texto dentro del área del gráfico. Para ello, divide el valor de la 1ª barra entre la suma de todas las barras y conviértelo en un porcentaje, almacenándolo en la variable \"porcentaje\".\n",
    "\n",
    "Ahora, en la posición x = 0.4e7 y y = 5, agrega el siguiente texto con tamaño 12 y color AZUL_3: `f\"$\\\\bf{porcentaje:.2f}$% de las ventas corresponden únicamente a las ventas de Electrónica.\\nEsto equivale a casi el doble en relación con todas las demás categorías\\npresentes en el portafolio de Zoop.\"`.\n",
    "\n",
    "Utiliza las bibliotecas de visualización de datos de Python para crear esta visualización.\n"
   ]
  },
  {
   "cell_type": "code",
   "execution_count": null,
   "metadata": {
    "id": "95i11Mwu85gF"
   },
   "outputs": [],
   "source": []
  },
  {
   "cell_type": "code",
   "execution_count": null,
   "metadata": {
    "id": "lC5AgN8s85ZT"
   },
   "outputs": [],
   "source": []
  },
  {
   "cell_type": "markdown",
   "metadata": {
    "id": "fhxRtCmbrpjM"
   },
   "source": [
    "<font color=\"7b71ff\" size=4> Comentarios: </font>\n",
    "\n",
    "---\n",
    "\n",
    "Hicimos con un solo prompt la inserción de las etiquetas, la modificación de los colores y añadimos un texto explicativo. Con la secuencia de explicaciones para ChatGPT, este reconoce algunos patrones en la construcción y genera parte del código incluso sin más detalles.\n"
   ]
  },
  {
   "cell_type": "markdown",
   "metadata": {
    "id": "KsEbRFBXsVcV"
   },
   "source": [
    "## **5.2 - Ajustando los visuales de composición**\n",
    "\n",
    "---\n"
   ]
  },
  {
   "cell_type": "markdown",
   "metadata": {
    "id": "hMgOAYDnsfPQ"
   },
   "source": [
    "Ya hemos llegado a prácticamente la mitad de los gráficos refinados. Ahora, en este tema, ajustaremos 2 más aplicando las técnicas de storytelling que aprendimos aquí en el curso mediante el uso de la IA.\n"
   ]
  },
  {
   "cell_type": "markdown",
   "metadata": {
    "id": "KUwT_68wPtt7"
   },
   "source": [
    "### **Gráfico 4 - Ventas por trimestre y método de pago:**"
   ]
  },
  {
   "cell_type": "code",
   "execution_count": null,
   "metadata": {
    "id": "QX0rdGsW83ZL"
   },
   "outputs": [],
   "source": []
  },
  {
   "cell_type": "markdown",
   "metadata": {
    "id": "1krG9wE7zRrL"
   },
   "source": [
    "> #### <strong><font color=\"7b71ff\" size=6>Prompt:</font></strong>\n",
    "\n",
    "Ahora vamos con el gráfico de Ventas por Trimestre y Método de Pago que producimos anteriormente. Vamos a refinarlo usando las siguientes directrices.\n",
    "\n",
    "Recuerda que el script original del gráfico es el siguiente:\n",
    "```python\n",
    "\n",
    "# 1. Crear una nueva columna 'trimestre' que extrae el trimestre de la columna 'fecha'\n",
    "df['trimestre'] = df['fecha'].dt.to_period('Q')\n",
    "\n",
    "# 2. Agrupar los datos por trimestre y método de pago, sumando la facturación\n",
    "ventas_trimestre = df.groupby(['trimestre', 'metodo_pago'])['facturacion'].sum().unstack()\n",
    "\n",
    "# 3. Crear el gráfico de barras apiladas\n",
    "ventas_trimestre.plot(kind='bar', stacked=True, figsize=(10, 6), colormap='viridis')\n",
    "\n",
    "# 4. Añadir etiquetas y título\n",
    "plt.title('Ventas por Trimestre y Método de Pago', fontsize=16)\n",
    "plt.xlabel('Trimestre', fontsize=12)\n",
    "plt.ylabel('Facturación Total', fontsize=12)\n",
    "plt.xticks(rotation=0)  # Rotar las etiquetas del eje x para mayor claridad\n",
    "\n",
    "# 5. Mostrar el gráfico\n",
    "plt.legend(title='Método de Pago por trimestre de 2023')\n",
    "plt.tight_layout()\n",
    "plt.show()\n",
    "\n",
    "```\n",
    "\n",
    "Nuestro gráfico debe seguir la identidad visual de Zoop, con el fondo de la figura y del gráfico en el color GRIS_1 y el tamaño de la figura debe ser de (10, 6). La secuencia de colores de las columnas apiladas (palette) es [BLANCO, GRIS_3, GRIS_1, GRIS_3].\n",
    "\n",
    "El título de la figura es \"Ventas por Trimestre y Método de Pago en 2023\" con tamaño 18 y su color GRIS_5.\n",
    "\n",
    "Las etiquetas del eje x (xticks) deben estar a 0 grados y tener tamaño 12 con el color AZUL_1. Las etiquetas del eje y (yticks) deben estar en el formato f\"MXN$ valor M\" sin decimales y las etiquetas de los ejes x e y (xlabel e ylabel) deben ser suprimidas. Todos los bordes del gráfico deben ser suprimidos(['top','bottom','left','right]).\n",
    "\n",
    "También agrega una cuadrícula punteada en y.\n",
    "\n",
    "Utiliza las bibliotecas de visualización de datos de Python para crear esta visualización.\n"
   ]
  },
  {
   "cell_type": "code",
   "execution_count": null,
   "metadata": {
    "id": "KDQDgK1580-3"
   },
   "outputs": [],
   "source": []
  },
  {
   "cell_type": "code",
   "execution_count": null,
   "metadata": {
    "id": "i3rYEAqC8064"
   },
   "outputs": [],
   "source": []
  },
  {
   "cell_type": "markdown",
   "metadata": {
    "id": "HJT8PZtF23f2"
   },
   "source": [
    "<font color=\"7b71ff\" size=4> Comentarios: </font>\n",
    "\n",
    "---\n",
    "\n",
    "Ajustamos el gráfico de barras apiladas representando con colores más suaves los valores de los métodos de pago. Podemos notar cosas interesantes en este gráfico, como: el 2º y 4º trimestre siendo los momentos en que Zoop factura más con ventas, y también el aumento en los pagos de las compras realizadas por los clientes mediante tarjeta de crédito.\n"
   ]
  },
  {
   "cell_type": "markdown",
   "metadata": {
    "id": "xQaEH5ul3CPs"
   },
   "source": [
    "### **Gráfico 5 - Clientes participantes del programa de cashback:**"
   ]
  },
  {
   "cell_type": "markdown",
   "metadata": {
    "id": "StsTmw_i3N0q"
   },
   "source": [
    "Ahora ha llegado el momento del gráfico de sectores. Ya está bien encaminado, pero necesitamos realizar algunos ajustes.\n"
   ]
  },
  {
   "cell_type": "code",
   "execution_count": null,
   "metadata": {
    "id": "HPNBxhSh8yzy"
   },
   "outputs": [],
   "source": []
  },
  {
   "cell_type": "markdown",
   "metadata": {
    "id": "8MVLAZBb4l4Z"
   },
   "source": [
    "> #### <strong><font color=\"7b71ff\" size =6>Prompt:</font></strong>\n",
    "\n",
    "Ahora, vamos a refinar el gráfico de dona que produjimos para la proporción de usuarios que se adhieren al programa de cashback.\n",
    "\n",
    "Recuerda que el script original del gráfico es el siguiente:\n",
    "\n",
    "```python\n",
    "plt.figure(figsize=(6, 6))\n",
    "plt.pie(cashback_proporcion, labels=cashback_proporcion.index, autopct='%1.1f%%',\n",
    "        colors=['#FF6666', '#66b3ff'], startangle=90, explode=(0.05, 0), wedgeprops={'width': 0.4})\n",
    "\n",
    "# 3. Añadir título\n",
    "plt.title('Proporción de Usuarios Participando en el Programa de Cashback', fontsize=16)\n",
    "\n",
    "# 4. Mostrar el gráfico\n",
    "plt.axis('equal')  # Asegura que el gráfico sea un círculo\n",
    "plt.show()\n",
    "```\n",
    "\n",
    "Nuestro gráfico debe seguir la identidad visual de Zoop, con el fondo de la figura y del gráfico en el color GRIS_1, el color de la porción de valor \"No\" igual a GRIS_3, el color de la porción de valor \"Sí\" igual a AZUL_1 y el tamaño de la figura debe ser de (6, 6).\n",
    "\n",
    "El título de la figura es \"¿Participan en el programa de cashback?\" con un tamaño de 18 y su color GRIS_5.\n",
    "\n",
    "Las etiquetas de las porciones deben tener el mismo color que las porciones y un tamaño de 12, y los porcentajes deben estar en color BLANCO, también con un tamaño de 12.\n",
    "\n",
    "La propiedad de ancho de la dona (`wedgeprops`) debe ser de 0.4, la posición de los porcentajes dentro de la porción (`pctdistance`) debe ser de 0.8, el ángulo de inicio debe ser de 180 (`startangle`), y sin explosión de porciones.\n",
    "\n",
    "Utiliza las bibliotecas de visualización de datos de Python para crear esta visualización.\n"
   ]
  },
  {
   "cell_type": "code",
   "execution_count": null,
   "metadata": {
    "id": "3mTu1c-Y8wTi"
   },
   "outputs": [],
   "source": []
  },
  {
   "cell_type": "code",
   "execution_count": null,
   "metadata": {
    "id": "D8tlN45x8wP7"
   },
   "outputs": [],
   "source": []
  },
  {
   "cell_type": "markdown",
   "metadata": {
    "id": "t-F0cRvT54ki"
   },
   "source": [
    "<font color=\"7b71ff\" size=4> Comentarios: </font>\n",
    "\n",
    "---\n",
    "\n",
    "Hemos modificado otro gráfico, ahora el de dona, para representar la proporción de nuestros(as) clientes. Dimos mayor destaque al \"Sí\", utilizando el color como recurso de punto focal.\n"
   ]
  },
  {
   "cell_type": "markdown",
   "metadata": {
    "id": "0W8lFf-U6N42"
   },
   "source": [
    "## **5.3 - Ajustando los visuales de distribución**\n",
    "\n",
    "---\n"
   ]
  },
  {
   "cell_type": "markdown",
   "metadata": {
    "id": "pk9VbSCp6v0g"
   },
   "source": [
    "Ahora vamos con los últimos 2 gráficos antes de la exportación de los visuales. Vamos a aplicar más técnicas de storytelling que aprendimos mediante el uso de la IA.\n"
   ]
  },
  {
   "cell_type": "markdown",
   "metadata": {
    "id": "ENCbI1v37u03"
   },
   "source": [
    "### **Gráfico 6 - Evaluaciones de los productos:**\n"
   ]
  },
  {
   "cell_type": "markdown",
   "metadata": {
    "id": "t6Yp9lPW8SRp"
   },
   "source": [
    "Agora vamos para a distribuição das avaliações dos produtos em que criamos um histograma. Vamos adicionar mais um novo elemento visual e realizar alguns ajustes."
   ]
  },
  {
   "cell_type": "code",
   "execution_count": null,
   "metadata": {
    "id": "AoWfvsEL8uCL"
   },
   "outputs": [],
   "source": []
  },
  {
   "cell_type": "markdown",
   "metadata": {
    "id": "9wauvnM5-8tl"
   },
   "source": [
    "> #### <strong><font color=\"7b71ff\" size =6>Prompt:</font></strong>\n",
    "\n",
    "Ahora vamos con el gráfico de la Distribución de las Evaluaciones de Compra que produjimos anteriormente. Vamos a refinarlo usando las siguientes orientaciones.\n",
    "\n",
    "El script original que genera el gráfico es el siguiente:\n",
    "\n",
    "```python\n",
    "# 1. Configurar el tamaño del gráfico\n",
    "plt.figure(figsize=(10, 6))\n",
    "\n",
    "# 2. Crear el gráfico de distribución (histograma)\n",
    "sns.histplot(df['nota'], bins=11, kde=False, color='skyblue')\n",
    "\n",
    "# 3. Añadir etiquetas y título\n",
    "plt.title('Distribución de las Calificaciones de las Compras', fontsize=16)\n",
    "plt.xlabel('Calificación (0-10)', fontsize=12)\n",
    "plt.ylabel('Frecuencia', fontsize=12)\n",
    "\n",
    "# 4. Mostrar el gráfico\n",
    "plt.show()\n",
    "```\n",
    "\n",
    "Nuestro gráfico necesita seguir la identidad visual de Zoop, con el fondo de la figura y del gráfico en el color GRIS_1, el color de las columnas en ROJO_1 y el tamaño de la figura debe ser de (10, 6).\n",
    "\n",
    "El título de la figura es \"Distribución de las evaluaciones de las compras en 2023\" con tamaño 18 y su color GRIS_5.\n",
    "\n",
    "Las etiquetas del eje x (xticks) deben estar en el rango de 0 a 10 con 11 bins y tener tamaño 12 con el color AZUL_1. Las etiquetas del eje y (yticks) deben tener tamaño 12 con el color AZUL_1 y las etiquetas de los ejes x e y (xlabel e ylabel) también deben tener tamaño 12 con el color AZUL_1. Todos los bordes del gráfico deben ser suprimidos (['top', 'bottom', 'left', 'right']).\n",
    "\n",
    "El grid del eje y debe estar detrás del gráfico (`ax.set_axisbelow(True)`).\n",
    "\n",
    "Vamos a añadir una caja de anotación (`ax.annotate()`) con el fondo en color BLANCO y el borde en color GRIS_3 dentro del área del gráfico. El texto de la anotación es\n",
    "\n",
    "```python\n",
    "f\"Promedio de calificaciones = {df['nota'].mean().round(2)}\\n Calificación más común = {df['nota'].value_counts().idxmax()}\\n Frecuencia más común = {df['nota'].value_counts().max()}\"\n",
    "```\n",
    "\n",
    "en color AZUL_1. Añade la caja de anotación con el texto en la posición xytext=(2, 1800) y coloca una flecha, en color AZUL_1, saliendo de la caja hasta la posición xy=(8.7, 2250).\n",
    "\n",
    "Utiliza las bibliotecas de visualización de datos de Python para crear esta visualización.\n"
   ]
  },
  {
   "cell_type": "code",
   "execution_count": null,
   "metadata": {
    "id": "GggHmSJI8rBW"
   },
   "outputs": [],
   "source": []
  },
  {
   "cell_type": "code",
   "execution_count": null,
   "metadata": {
    "id": "CCEWR9S58q97"
   },
   "outputs": [],
   "source": []
  },
  {
   "cell_type": "markdown",
   "metadata": {
    "id": "xQZOKIRDBv00"
   },
   "source": [
    "<font color=\"7b71ff\" size=4> Comentarios: </font>\n",
    "\n",
    "---\n",
    "\n",
    "¡Una novedad más en nuestro gráfico! Añadimos la función de caja de anotaciones, que es muy útil para proporcionar información sobre los datos. Con ella es posible utilizar flechas como indicadores para destacar detalles.\n"
   ]
  },
  {
   "cell_type": "markdown",
   "metadata": {
    "id": "OvX96VEzB16Y"
   },
   "source": [
    "### **Gráfico 7 - Distribución del público por edad y sexo biológico:**\n"
   ]
  },
  {
   "cell_type": "markdown",
   "metadata": {
    "id": "A5-EoWVgCR28"
   },
   "source": [
    "Ahora vamos con nuestra última visualización.\n"
   ]
  },
  {
   "cell_type": "code",
   "execution_count": null,
   "metadata": {
    "id": "fATZ9ek88lCq"
   },
   "outputs": [],
   "source": []
  },
  {
   "cell_type": "markdown",
   "metadata": {
    "id": "u2WV7yloFTGp"
   },
   "source": [
    "> #### <strong><font color=\"7b71ff\" size =6>Prompt:</font></strong>\n",
    "\n",
    "Ahora vamos al gráfico de boxplot de la Distribución de la Edad por Sexo Biológico que produjimos anteriormente. Vamos a refinado usando las siguientes orientaciones.\n",
    "\n",
    "El script original que genera el gráfico es el siguiente:\n",
    "\n",
    "```python\n",
    "# 1. Configurar el tamaño del gráfico\n",
    "plt.figure(figsize=(10, 6))\n",
    "\n",
    "# 2. Crear el gráfico de boxplot\n",
    "sns.boxplot(x='sexo_biologico', y='edad', data=df, palette='Set2')\n",
    "\n",
    "# 3. Añadir etiquetas y título\n",
    "plt.title('Distribución de la Audiencia por Edad y Sexo Biológico', fontsize=16)\n",
    "plt.xlabel('Sexo Biológico', fontsize=12)\n",
    "plt.ylabel('Edad', fontsize=12)\n",
    "\n",
    "# 4. Mostrar el gráfico\n",
    "plt.show()\n",
    "```\n",
    "\n",
    "Nuestro gráfico debe seguir la identidad visual de Zoop, con el fondo de la figura y del gráfico en el color GRIS_1, y el tamaño de la figura debe ser de (10, 6).\n",
    "\n",
    "El título de la figura es \"Distribución de la Edad por Sexo Biológico de los  clientes\" con tamaño 18 y su color GRIS_5.\n",
    "\n",
    "La columna 'sexo_biologico' está representada en el eje x y la 'edad' en el eje y. La paleta de colores para los valores de x es [AZUL_1, AQUA_1].\n",
    "\n",
    "La etiqueta del eje x (xlabel) debe ser suprimida. Los rótulos del eje x y y (xticks y yticks) deben tener tamaño 12 con el color AZUL_1 y la etiqueta del eje y (ylabel) también debe tener tamaño 12 con el color AZUL_1. Todos los bordes del gráfico deben ser suprimidos y la cuadrícula del eje y debe estar detrás del gráfico (`ax.set_axisbelow(True)`).\n",
    "\n",
    "Vamos a agregar dos cajas de anotación (`ax.annotate()`) con el fondo en color BLANCO y el borde en color GRIS_3 dentro del área del gráfico.\n",
    "\n",
    "El texto de la primera anotación en color AZUL_1 es\n",
    "\n",
    "```python\n",
    "f\"Mínimo = df.groupby(\"sexo_biologico\")[\"edad\"].min()[1]\\n 1º quartil = df.groupby(\"sexo_biologico\")[\"edad\"].quantile(.25)[1]\\n 2º quartil = df.groupby(\"sexo_biologico\")[\"edad\"].median()[1]\\n 3º quartil = df.groupby(\"sexo_biologico\")[\"edad\"].quantile(.75)[1]\\n Máximo = df.groupby(\"sexo_biologico\")[\"edad\"].max()[1]\"\n",
    "```\n",
    "\n",
    "Agrega la caja de anotación con el texto en la posición xytext=(-0.4, 50) y coloca una flecha, en color AZUL_1, saliendo de la caja hasta la posición xy=(-0.1, 45).\n",
    "\n",
    "El texto de la segunda anotación en color AZUL_1 es\n",
    "\n",
    "```python\n",
    "f\"Mínimo = df.groupby(\"sexo_biologico\")[\"edad\"].min()[0]\\n 1º quartil = df.groupby(\"sexo_biologico\")[\"edad\"].quantile(.25)[0]\\n 2º quartil = df.groupby(\"sexo_biologico\")[\"edad\"].median()[0]\\n 3º quartil = df.groupby(\"sexo_biologico\")[\"edad\"].quantile(.75)[0]\\n Máximo = df.groupby(\"sexo_biologico\")[\"edad\"].max()[0]\"\n",
    "```\n",
    "\n",
    "\n",
    "Agrega la caja de anotación con el texto en la posición xytext=(0.6, 50) y coloca una flecha, en color AZUL_1, saliendo de la caja hasta la posición xy=(0.9, 45).\n",
    "\n",
    "Utiliza las bibliotecas de visualización de datos de Python para crear esta visualización.\n"
   ]
  },
  {
   "cell_type": "code",
   "execution_count": null,
   "metadata": {
    "id": "VwyrFJbh8iYq"
   },
   "outputs": [],
   "source": []
  },
  {
   "cell_type": "code",
   "execution_count": null,
   "metadata": {
    "id": "KokeV69t8iP-"
   },
   "outputs": [],
   "source": []
  },
  {
   "cell_type": "markdown",
   "metadata": {
    "id": "hNRa4k9ABYTs"
   },
   "source": [
    "<font color=\"7b71ff\" size=4> Comentarios: </font>\n",
    "\n",
    "---\n",
    "\n",
    "Para nuestro último gráfico, creamos nuevamente el bloque de anotaciones señalando los valores que se muestran en un boxplot. Notamos que la distribución entre los clientes de sexo biológico masculino y femenino es bastante cercana, con solo un año de diferencia en el rango intercuartil (del 1º al 3º cuartil) en el caso del sexo biológico masculino. Zoop tiene en la mediana una clientela de 38 años de edad para ambos sexos.\n"
   ]
  },
  {
   "cell_type": "markdown",
   "metadata": {
    "id": "mTK8l5u7BlER"
   },
   "source": [
    "## **5.4 - Exportando las visualizaciones**\n",
    "\n",
    "---\n",
    "\n"
   ]
  },
  {
   "cell_type": "markdown",
   "metadata": {
    "id": "3tspl9LkCBcm"
   },
   "source": [
    "¡Listo! Ahora que hemos finalizado los ajustes de todos los gráficos solicitados, generaremos un último código para exportar cada uno de los gráficos que transformamos en funciones en formato de imagen (PNG)."
   ]
  },
  {
   "cell_type": "markdown",
   "metadata": {
    "id": "csUc52BgCb7C"
   },
   "source": [
    "<strong><font color=\"7b71ff\" size =6>Prompt:</font></strong>\n",
    "Ahora, vamos a nuestra última etapa: guardar las visualizaciones como imagen. Coloca cada uno de los gráficos que generamos dentro de una función y quiero que se aplique el siguiente procedimiento a cada una de ellas:\n",
    "\n",
    "```\n",
    "nombre_imagen = nombre_funcion()\n",
    "nombre_imagen.savefig('nombre_imagen.png', bbox_inches='tight')\n",
    "nombre_imagen.close()\n",
    "```\n",
    "Las funciones son:\n",
    "\n",
    "\n",
    "*   metodo_pago()\n",
    "*   ventas_mensuales()\n",
    "*   facturacion_por_categoria()\n",
    "*   ventas_por_trimestre()\n",
    "*   proporcion_cashback()\n",
    "*   distribucion_calificaciones()\n",
    "*   box_plot_edad_sexo()\n",
    "\n",
    "Reemplaza la variable \"nombre_imagen\" por \"grafico_\" seguido del nombre de la función que genera el gráfico.\n",
    "\n",
    "Utiliza el lenguaje Python para crear el código y no mostrar las imágenes."
   ]
  },
  {
   "cell_type": "code",
   "execution_count": null,
   "metadata": {
    "id": "E8MJHMN98ewE"
   },
   "outputs": [],
   "source": []
  },
  {
   "cell_type": "markdown",
   "metadata": {
    "id": "kTJalNIIDsyA"
   },
   "source": [
    "¡Ahora es tu turno! ¿Qué tal descargar los gráficos y generar un informe con algunos insights y explicando los resultados?\n",
    "\n",
    "¡Espero que hayas disfrutado este curso y saques el máximo provecho del contenido!"
   ]
  }
 ],
 "metadata": {
  "colab": {
   "include_colab_link": true,
   "provenance": []
  },
  "kernelspec": {
   "display_name": ".aluraEnv",
   "language": "python",
   "name": "python3"
  },
  "language_info": {
   "codemirror_mode": {
    "name": "ipython",
    "version": 3
   },
   "file_extension": ".py",
   "mimetype": "text/x-python",
   "name": "python",
   "nbconvert_exporter": "python",
   "pygments_lexer": "ipython3",
   "version": "3.12.3"
  }
 },
 "nbformat": 4,
 "nbformat_minor": 0
}
